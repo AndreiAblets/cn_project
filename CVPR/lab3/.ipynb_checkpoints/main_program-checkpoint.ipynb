{
 "cells": [
  {
   "cell_type": "markdown",
   "metadata": {},
   "source": [
    "# Код предыдущей практической работы"
   ]
  },
  {
   "cell_type": "markdown",
   "metadata": {},
   "source": [
    "Для роботи був обраний дескриптор KAZE, а предмет на якому проводилися досліди - моделька корабля (барк). Для еталонного зображення була обрана фотографія у профіль. "
   ]
  },
  {
   "cell_type": "code",
   "execution_count": 114,
   "metadata": {},
   "outputs": [],
   "source": [
    "import numpy as np\n",
    "import cv2, time, os\n",
    "from matplotlib import pyplot as plt\n",
    "import pandas as pd\n"
   ]
  },
  {
   "cell_type": "code",
   "execution_count": 14,
   "metadata": {
    "scrolled": true
   },
   "outputs": [],
   "source": [
    "im_source = cv2.imread('C:\\\\Users\\\\user\\\\benchmark\\\\200108800907_86781.jpg',1)\n",
    "\n",
    "detector  = cv2.KAZE_create()\n",
    "matcher = cv2.BFMatcher(cv2.NORM_L1)\n",
    "\n",
    "kp_src, des_src = detector.detectAndCompute(im_source, None)\n"
   ]
  },
  {
   "cell_type": "markdown",
   "metadata": {},
   "source": [
    "Функція **find_metrics()** не знаходить ті метрики які нам потрібно було знайти, а знаходить основні метрики з яких можна отримати бажані, бо ми не зовсім розуміємо, що на що просять ділити. Але висновок спокійно можна отримати і з цих значень (в нього такі самі метрики). Тому я з Володимиром вирішили не записувати ці метрики."
   ]
  },
  {
   "cell_type": "code",
   "execution_count": 15,
   "metadata": {},
   "outputs": [],
   "source": [
    "def find_metrics(path_im_search,detector,matcher,kp_src, des_src):\n",
    "#     path_im_search - str\n",
    "\n",
    "    im_search  = cv2.imread(path_im_search,1)\n",
    "    kp_sch, des_sch = detector.detectAndCompute(im_search, None)\n",
    "    start_time = time.time()\n",
    "    matches = matcher.knnMatch(des_sch, des_src, k=2)\n",
    "    all_matches = len(matches) * 2\n",
    "    good = []\n",
    "\n",
    "    for m, n in matches:\n",
    "        if m.distance < 0.8 * n.distance:\n",
    "            good.append(m)\n",
    "\n",
    "    # Set the source image can not have duplicate points        \n",
    "    good_diff, diff_good_point = [], [[]]\n",
    "\n",
    "    for m in good:\n",
    "        diff_point = [int(kp_src[m.trainIdx].pt[0]), int(kp_src[m.trainIdx].pt[1])]\n",
    "        if diff_point not in diff_good_point:\n",
    "            good_diff.append(m)\n",
    "            diff_good_point.append(diff_point)\n",
    "\n",
    "    good = good_diff\n",
    "    good_matches = len(good)\n",
    "\n",
    "    end_time = time.time()\n",
    "    result_time = round(end_time - start_time, 4)\n",
    "\n",
    "    error_all_matches_list = []\n",
    "    for m in np.array(matches).ravel().tolist():\n",
    "        error_all_matches_list.append(m.distance)\n",
    "    error_all_matches = round(np.array(error_all_matches_list).mean(), 4)\n",
    "\n",
    "    error_good = []\n",
    "    for m in good:\n",
    "        error_good.append(m.distance)\n",
    "    error_good = round(np.array(error_good).mean(), 4)\n",
    "\n",
    "    size = im_search.shape\n",
    "\n",
    "    return all_matches, good_matches, error_all_matches, error_good, size, result_time\n",
    "\n"
   ]
  },
  {
   "cell_type": "markdown",
   "metadata": {},
   "source": [
    "Записуємо наші метрики для кожної тестової фотографії у датафрейм. Ті попередження, що вилазять, говорять нам про те, що деякі фотографії (наприклад фотографії з шишкою) не мають правильних збігів з нашим еталоном, воно і не дивно, шишка не дуже подібна на корабель. І в ці значення записується NaN."
   ]
  },
  {
   "cell_type": "code",
   "execution_count": 4,
   "metadata": {
    "scrolled": true
   },
   "outputs": [
    {
     "name": "stderr",
     "output_type": "stream",
     "text": [
      "C:\\Users\\user\\anaconda3\\lib\\site-packages\\ipykernel_launcher.py:38: RuntimeWarning: Mean of empty slice.\n",
      "C:\\Users\\user\\anaconda3\\lib\\site-packages\\numpy\\core\\_methods.py:161: RuntimeWarning: invalid value encountered in double_scalars\n",
      "  ret = ret.dtype.type(ret / rcount)\n",
      "C:\\Users\\user\\anaconda3\\lib\\site-packages\\ipykernel_launcher.py:33: RuntimeWarning: Mean of empty slice.\n"
     ]
    },
    {
     "name": "stdout",
     "output_type": "stream",
     "text": [
      "Wall time: 5min 2s\n"
     ]
    }
   ],
   "source": [
    "%%time\n",
    "all_metrics = []\n",
    "i = 1\n",
    "for filename in os.listdir('C:\\\\Users\\\\user\\\\all_photos'):\n",
    "    i += 1\n",
    "    temp_list = list(find_metrics('C:\\\\Users\\\\user\\\\all_photos\\\\' + filename,detector,matcher,kp_src, des_src))\n",
    "    temp_list.insert(0, filename)\n",
    "    all_metrics.append(temp_list)\n",
    "\n",
    "df = pd.DataFrame(all_metrics, columns=['name', 'all_matches', 'true_matches', \n",
    "                                        'error_all_matches', 'error_true_matches', 'size', 'time'])\n"
   ]
  },
  {
   "cell_type": "code",
   "execution_count": 5,
   "metadata": {},
   "outputs": [],
   "source": [
    "df.to_csv( 'C:\\\\Users\\\\user\\\\results\\\\metrics.csv') "
   ]
  },
  {
   "cell_type": "markdown",
   "metadata": {},
   "source": [
    "Подивимось на опис відношення правильних матчів до всіх. Як виявиться, середнє значення набагато менше за середня значення для ORB алгоритма. Міркування щодо цього дивитись у файлі conclusion."
   ]
  },
  {
   "cell_type": "code",
   "execution_count": 21,
   "metadata": {},
   "outputs": [
    {
     "data": {
      "text/plain": [
       "count    140.000000\n",
       "mean       0.004953\n",
       "std        0.003475\n",
       "min        0.000000\n",
       "25%        0.003074\n",
       "50%        0.004311\n",
       "75%        0.005912\n",
       "max        0.016675\n",
       "dtype: float64"
      ]
     },
     "execution_count": 21,
     "metadata": {},
     "output_type": "execute_result"
    }
   ],
   "source": [
    "(df['true_matches']/df['all_matches']).describe()"
   ]
  },
  {
   "cell_type": "code",
   "execution_count": 6,
   "metadata": {
    "scrolled": true
   },
   "outputs": [
    {
     "data": {
      "text/html": [
       "<div>\n",
       "<style scoped>\n",
       "    .dataframe tbody tr th:only-of-type {\n",
       "        vertical-align: middle;\n",
       "    }\n",
       "\n",
       "    .dataframe tbody tr th {\n",
       "        vertical-align: top;\n",
       "    }\n",
       "\n",
       "    .dataframe thead th {\n",
       "        text-align: right;\n",
       "    }\n",
       "</style>\n",
       "<table border=\"1\" class=\"dataframe\">\n",
       "  <thead>\n",
       "    <tr style=\"text-align: right;\">\n",
       "      <th></th>\n",
       "      <th>name</th>\n",
       "      <th>all_matches</th>\n",
       "      <th>true_matches</th>\n",
       "      <th>error_all_matches</th>\n",
       "      <th>error_true_matches</th>\n",
       "      <th>size</th>\n",
       "      <th>time</th>\n",
       "    </tr>\n",
       "  </thead>\n",
       "  <tbody>\n",
       "    <tr>\n",
       "      <th>0</th>\n",
       "      <td>200018300047_463343.jpg</td>\n",
       "      <td>3362</td>\n",
       "      <td>14</td>\n",
       "      <td>2.5829</td>\n",
       "      <td>1.8803</td>\n",
       "      <td>(1280, 960, 3)</td>\n",
       "      <td>0.1536</td>\n",
       "    </tr>\n",
       "    <tr>\n",
       "      <th>1</th>\n",
       "      <td>200018300204_458970.jpg</td>\n",
       "      <td>4240</td>\n",
       "      <td>33</td>\n",
       "      <td>2.7236</td>\n",
       "      <td>1.7862</td>\n",
       "      <td>(1280, 960, 3)</td>\n",
       "      <td>0.2234</td>\n",
       "    </tr>\n",
       "    <tr>\n",
       "      <th>2</th>\n",
       "      <td>200018300634_461451.jpg</td>\n",
       "      <td>4232</td>\n",
       "      <td>10</td>\n",
       "      <td>2.6901</td>\n",
       "      <td>1.8382</td>\n",
       "      <td>(960, 1280, 3)</td>\n",
       "      <td>0.1935</td>\n",
       "    </tr>\n",
       "    <tr>\n",
       "      <th>3</th>\n",
       "      <td>200018500242_464323.jpg</td>\n",
       "      <td>2260</td>\n",
       "      <td>8</td>\n",
       "      <td>2.6203</td>\n",
       "      <td>1.9124</td>\n",
       "      <td>(960, 1280, 3)</td>\n",
       "      <td>0.1057</td>\n",
       "    </tr>\n",
       "    <tr>\n",
       "      <th>4</th>\n",
       "      <td>200018500302_461154.jpg</td>\n",
       "      <td>2660</td>\n",
       "      <td>13</td>\n",
       "      <td>2.7044</td>\n",
       "      <td>1.7400</td>\n",
       "      <td>(960, 1280, 3)</td>\n",
       "      <td>0.1476</td>\n",
       "    </tr>\n",
       "    <tr>\n",
       "      <th>5</th>\n",
       "      <td>200018500845_461490.jpg</td>\n",
       "      <td>22438</td>\n",
       "      <td>20</td>\n",
       "      <td>2.6100</td>\n",
       "      <td>2.0884</td>\n",
       "      <td>(1280, 960, 3)</td>\n",
       "      <td>1.0043</td>\n",
       "    </tr>\n",
       "    <tr>\n",
       "      <th>6</th>\n",
       "      <td>200067600130_340611.jpg</td>\n",
       "      <td>5172</td>\n",
       "      <td>59</td>\n",
       "      <td>2.5130</td>\n",
       "      <td>1.5992</td>\n",
       "      <td>(1280, 1280, 3)</td>\n",
       "      <td>0.3042</td>\n",
       "    </tr>\n",
       "    <tr>\n",
       "      <th>7</th>\n",
       "      <td>200067600168_341964.jpg</td>\n",
       "      <td>3560</td>\n",
       "      <td>11</td>\n",
       "      <td>2.6618</td>\n",
       "      <td>2.0784</td>\n",
       "      <td>(960, 1280, 3)</td>\n",
       "      <td>0.1596</td>\n",
       "    </tr>\n",
       "    <tr>\n",
       "      <th>8</th>\n",
       "      <td>200067600293_341472.jpg</td>\n",
       "      <td>6790</td>\n",
       "      <td>29</td>\n",
       "      <td>2.6457</td>\n",
       "      <td>2.0432</td>\n",
       "      <td>(1280, 1280, 3)</td>\n",
       "      <td>0.3042</td>\n",
       "    </tr>\n",
       "    <tr>\n",
       "      <th>9</th>\n",
       "      <td>200067700524_339357.jpg</td>\n",
       "      <td>6594</td>\n",
       "      <td>39</td>\n",
       "      <td>2.7359</td>\n",
       "      <td>2.0067</td>\n",
       "      <td>(1280, 960, 3)</td>\n",
       "      <td>0.2932</td>\n",
       "    </tr>\n",
       "  </tbody>\n",
       "</table>\n",
       "</div>"
      ],
      "text/plain": [
       "                      name  all_matches  true_matches  error_all_matches  \\\n",
       "0  200018300047_463343.jpg         3362            14             2.5829   \n",
       "1  200018300204_458970.jpg         4240            33             2.7236   \n",
       "2  200018300634_461451.jpg         4232            10             2.6901   \n",
       "3  200018500242_464323.jpg         2260             8             2.6203   \n",
       "4  200018500302_461154.jpg         2660            13             2.7044   \n",
       "5  200018500845_461490.jpg        22438            20             2.6100   \n",
       "6  200067600130_340611.jpg         5172            59             2.5130   \n",
       "7  200067600168_341964.jpg         3560            11             2.6618   \n",
       "8  200067600293_341472.jpg         6790            29             2.6457   \n",
       "9  200067700524_339357.jpg         6594            39             2.7359   \n",
       "\n",
       "   error_true_matches             size    time  \n",
       "0              1.8803   (1280, 960, 3)  0.1536  \n",
       "1              1.7862   (1280, 960, 3)  0.2234  \n",
       "2              1.8382   (960, 1280, 3)  0.1935  \n",
       "3              1.9124   (960, 1280, 3)  0.1057  \n",
       "4              1.7400   (960, 1280, 3)  0.1476  \n",
       "5              2.0884   (1280, 960, 3)  1.0043  \n",
       "6              1.5992  (1280, 1280, 3)  0.3042  \n",
       "7              2.0784   (960, 1280, 3)  0.1596  \n",
       "8              2.0432  (1280, 1280, 3)  0.3042  \n",
       "9              2.0067   (1280, 960, 3)  0.2932  "
      ]
     },
     "execution_count": 6,
     "metadata": {},
     "output_type": "execute_result"
    }
   ],
   "source": [
    "df.head(10)"
   ]
  },
  {
   "cell_type": "code",
   "execution_count": 17,
   "metadata": {},
   "outputs": [
    {
     "data": {
      "text/html": [
       "<div>\n",
       "<style scoped>\n",
       "    .dataframe tbody tr th:only-of-type {\n",
       "        vertical-align: middle;\n",
       "    }\n",
       "\n",
       "    .dataframe tbody tr th {\n",
       "        vertical-align: top;\n",
       "    }\n",
       "\n",
       "    .dataframe thead th {\n",
       "        text-align: right;\n",
       "    }\n",
       "</style>\n",
       "<table border=\"1\" class=\"dataframe\">\n",
       "  <thead>\n",
       "    <tr style=\"text-align: right;\">\n",
       "      <th></th>\n",
       "      <th>all_matches</th>\n",
       "      <th>true_matches</th>\n",
       "      <th>error_all_matches</th>\n",
       "      <th>error_true_matches</th>\n",
       "      <th>time</th>\n",
       "    </tr>\n",
       "  </thead>\n",
       "  <tbody>\n",
       "    <tr>\n",
       "      <th>count</th>\n",
       "      <td>144.000000</td>\n",
       "      <td>144.000000</td>\n",
       "      <td>140.000000</td>\n",
       "      <td>129.000000</td>\n",
       "      <td>144.000000</td>\n",
       "    </tr>\n",
       "    <tr>\n",
       "      <th>mean</th>\n",
       "      <td>4407.055556</td>\n",
       "      <td>20.034722</td>\n",
       "      <td>2.693661</td>\n",
       "      <td>1.938253</td>\n",
       "      <td>0.208304</td>\n",
       "    </tr>\n",
       "    <tr>\n",
       "      <th>std</th>\n",
       "      <td>4228.438148</td>\n",
       "      <td>16.590676</td>\n",
       "      <td>0.104418</td>\n",
       "      <td>0.186315</td>\n",
       "      <td>0.207424</td>\n",
       "    </tr>\n",
       "    <tr>\n",
       "      <th>min</th>\n",
       "      <td>0.000000</td>\n",
       "      <td>0.000000</td>\n",
       "      <td>2.159800</td>\n",
       "      <td>1.089400</td>\n",
       "      <td>0.000000</td>\n",
       "    </tr>\n",
       "    <tr>\n",
       "      <th>25%</th>\n",
       "      <td>2297.500000</td>\n",
       "      <td>9.000000</td>\n",
       "      <td>2.652500</td>\n",
       "      <td>1.838200</td>\n",
       "      <td>0.104450</td>\n",
       "    </tr>\n",
       "    <tr>\n",
       "      <th>50%</th>\n",
       "      <td>3669.000000</td>\n",
       "      <td>17.000000</td>\n",
       "      <td>2.696650</td>\n",
       "      <td>1.943200</td>\n",
       "      <td>0.173500</td>\n",
       "    </tr>\n",
       "    <tr>\n",
       "      <th>75%</th>\n",
       "      <td>5444.500000</td>\n",
       "      <td>29.000000</td>\n",
       "      <td>2.740150</td>\n",
       "      <td>2.052800</td>\n",
       "      <td>0.253800</td>\n",
       "    </tr>\n",
       "    <tr>\n",
       "      <th>max</th>\n",
       "      <td>25832.000000</td>\n",
       "      <td>97.000000</td>\n",
       "      <td>3.191200</td>\n",
       "      <td>2.276700</td>\n",
       "      <td>1.199800</td>\n",
       "    </tr>\n",
       "  </tbody>\n",
       "</table>\n",
       "</div>"
      ],
      "text/plain": [
       "        all_matches  true_matches  error_all_matches  error_true_matches  \\\n",
       "count    144.000000    144.000000         140.000000          129.000000   \n",
       "mean    4407.055556     20.034722           2.693661            1.938253   \n",
       "std     4228.438148     16.590676           0.104418            0.186315   \n",
       "min        0.000000      0.000000           2.159800            1.089400   \n",
       "25%     2297.500000      9.000000           2.652500            1.838200   \n",
       "50%     3669.000000     17.000000           2.696650            1.943200   \n",
       "75%     5444.500000     29.000000           2.740150            2.052800   \n",
       "max    25832.000000     97.000000           3.191200            2.276700   \n",
       "\n",
       "             time  \n",
       "count  144.000000  \n",
       "mean     0.208304  \n",
       "std      0.207424  \n",
       "min      0.000000  \n",
       "25%      0.104450  \n",
       "50%      0.173500  \n",
       "75%      0.253800  \n",
       "max      1.199800  "
      ]
     },
     "execution_count": 17,
     "metadata": {},
     "output_type": "execute_result"
    }
   ],
   "source": [
    "df.describe()"
   ]
  },
  {
   "cell_type": "markdown",
   "metadata": {},
   "source": [
    "Зберігаємо та виводимо на екран ключові точки нашого еталону. Як можна бачити, алгоритм непогано справляється. На поверхні, де лежить корабель, ключових точок майже немає. Проте їх дуже багато на \"складних місцях\", наприклад в точках, де перетинаються багато ниток."
   ]
  },
  {
   "cell_type": "code",
   "execution_count": 7,
   "metadata": {},
   "outputs": [],
   "source": [
    "source_keys = cv2.drawKeypoints(im_source, kp_src , None)\n",
    "cv2.namedWindow(\"Benchmark\", cv2.WINDOW_NORMAL)\n",
    "cv2.resizeWindow(\"Benchmark\", 600, 600)\n",
    "cv2.imshow(\"Benchmark\", source_keys)\n",
    "\n",
    "cv2.imwrite('C:\\\\Users\\\\user\\\\results\\\\source_keys.jpg', source_keys)\n",
    "\n",
    "cv2.waitKey(0)\n",
    "cv2.destroyAllWindows()"
   ]
  },
  {
   "cell_type": "markdown",
   "metadata": {},
   "source": [
    "Зберігаємо та виводимо на екран усі матчі. Як можна побачити, їх дуже багато. Взагалі, вони правильно співставляють фотографії кораблів. Але, як можна бачити, на фотографії з еспандером матчів не набагато менше. "
   ]
  },
  {
   "cell_type": "code",
   "execution_count": 8,
   "metadata": {},
   "outputs": [],
   "source": [
    "#all matches for source and 4 example photos\n",
    "i=0\n",
    "\n",
    "for filename in os.listdir('C:\\\\Users\\\\user\\\\photo_for_example'):\n",
    "    \n",
    "    i+=1\n",
    "    \n",
    "    im_search = cv2.imread('C:\\\\Users\\\\user\\\\photo_for_example\\\\'+filename, 1)\n",
    "    im_source = cv2.imread('C:\\\\Users\\\\user\\\\benchmark\\\\200108800907_86781.jpg',1)\n",
    "\n",
    "    kp_src, des_src = detector.detectAndCompute(im_source, None)\n",
    "    kp_sch, des_sch = detector.detectAndCompute(im_search, None)\n",
    "    \n",
    "    matcher = cv2.BFMatcher(cv2.NORM_L1)\n",
    "\n",
    "    matches = matcher.knnMatch(des_src, des_sch, k=2)\n",
    "    \n",
    "    matches = np.array(matches).ravel().tolist()\n",
    "    matching_result = cv2.drawMatches(im_source, kp_src, im_search, kp_sch, matches, None)\n",
    "\n",
    "    cv2.namedWindow(\"Matches\", cv2.WINDOW_NORMAL)\n",
    "    cv2.resizeWindow(\"Matches\", 1200, 600)\n",
    "    cv2.imshow(\"Matches\", matching_result)\n",
    "\n",
    "    cv2.imwrite('C:\\\\Users\\\\user\\\\results\\\\all_matches\\\\match' + str(i) + '.jpg', matching_result)\n",
    "    \n",
    "    cv2.waitKey(0)\n",
    "    cv2.destroyAllWindows()"
   ]
  },
  {
   "cell_type": "markdown",
   "metadata": {},
   "source": [
    "Зберігаємо та виводимо на екран тільки правильні матчі. А ось тут матчів з фотографією еспандера дуже мало, в порівнянні з іншими фотографіями."
   ]
  },
  {
   "cell_type": "code",
   "execution_count": 9,
   "metadata": {},
   "outputs": [],
   "source": [
    "#true matches for source and 4 example photos\n",
    "i=0\n",
    "\n",
    "for filename in os.listdir('C:\\\\Users\\\\user\\\\photo_for_example'):\n",
    "    \n",
    "    i+=1\n",
    "    \n",
    "    im_search = cv2.imread('C:\\\\Users\\\\user\\\\photo_for_example\\\\'+filename, 1)\n",
    "    im_source = cv2.imread('C:\\\\Users\\\\user\\\\benchmark\\\\200108800907_86781.jpg',1)\n",
    "\n",
    "    kp_src, des_src = detector.detectAndCompute(im_source, None)\n",
    "    kp_sch, des_sch = detector.detectAndCompute(im_search, None)\n",
    "    \n",
    "    matcher = cv2.BFMatcher(cv2.NORM_L2)\n",
    "\n",
    "    matches = matcher.knnMatch(des_src, des_sch, k=2)\n",
    "    \n",
    "    good = []\n",
    "\n",
    "    for m, n in matches:\n",
    "        if m.distance < 0.8 * n.distance:\n",
    "            good.append(m)\n",
    "\n",
    "    # Set the source image can not have duplicate points        \n",
    "    good_diff, diff_good_point = [], [[]]\n",
    "\n",
    "    for m in good:\n",
    "        diff_point = [int(kp_src[m.trainIdx].pt[0]), int(kp_src[m.trainIdx].pt[1])]\n",
    "        if diff_point not in diff_good_point:\n",
    "            good_diff.append(m)\n",
    "            diff_good_point.append(diff_point)\n",
    "\n",
    "    good = good_diff\n",
    "\n",
    "    matching_result = cv2.drawMatches(im_source, kp_src, im_search, kp_sch, good, None)\n",
    "\n",
    "    cv2.namedWindow(\"Matches\", cv2.WINDOW_NORMAL)\n",
    "    cv2.resizeWindow(\"Matches\", 1200, 600)\n",
    "    cv2.imshow(\"Matches\", matching_result)\n",
    "\n",
    "    cv2.imwrite('C:\\\\Users\\\\user\\\\results\\\\true_matches\\\\match' + str(i) + '.jpg', matching_result)\n",
    "    \n",
    "    cv2.waitKey(0)\n",
    "    cv2.destroyAllWindows()"
   ]
  },
  {
   "cell_type": "markdown",
   "metadata": {},
   "source": [
    "# Практическая работа № 3"
   ]
  },
  {
   "cell_type": "code",
   "execution_count": 1,
   "metadata": {},
   "outputs": [],
   "source": [
    "import glob\n",
    "import shutil\n",
    "import os\n",
    "import numpy as np"
   ]
  },
  {
   "cell_type": "code",
   "execution_count": 2,
   "metadata": {},
   "outputs": [],
   "source": [
    "ship_photos_dir = 'new_dataset\\ship'\n",
    "bmw_photos_dir = 'new_dataset\\car'\n",
    "other_dir = 'new_dataset\\other_photos'\n"
   ]
  },
  {
   "cell_type": "markdown",
   "metadata": {},
   "source": [
    "Распределяем наши предметы на классы"
   ]
  },
  {
   "cell_type": "code",
   "execution_count": 3,
   "metadata": {},
   "outputs": [],
   "source": [
    "number_ship_photos = len(glob.glob(ship_photos_dir + '\\*'))\n",
    "number_bmw_photos = len(glob.glob(bmw_photos_dir + '\\*'))\n",
    "number_all_other_photos = len(glob.glob(other_dir + '\\*'))"
   ]
  },
  {
   "cell_type": "markdown",
   "metadata": {},
   "source": [
    "1 - фотографии с BMW, 2 - фотографии с кораблем, 0 - фотографии с остальными предметами"
   ]
  },
  {
   "cell_type": "code",
   "execution_count": 9,
   "metadata": {},
   "outputs": [],
   "source": [
    "all_other_photos_class = np.array([0 for i in range(number_all_other_photos)])\n",
    "bmw_photos_class = np.array([1 for i in range(number_bmw_photos)])\n",
    "ship_photos_class = np.array([2 for i in range(number_ship_photos)])"
   ]
  },
  {
   "cell_type": "markdown",
   "metadata": {},
   "source": [
    "Объединяем все фотографии"
   ]
  },
  {
   "cell_type": "code",
   "execution_count": 20,
   "metadata": {},
   "outputs": [],
   "source": [
    "target_dir = 'new_X'\n",
    "source_dirs = [ship_photos_dir, bmw_photos_dir, other_dir]\n",
    "count = 0\n",
    "for source_dir in source_dirs:\n",
    "    file_names = os.listdir(source_dir)\n",
    "    for file_name in file_names:\n",
    "        count += 1\n",
    "        shutil.move(os.path.join(source_dir, file_name), target_dir)\n",
    "        os.rename(target_dir+ '//' + file_name, str(count) + '.jpg')"
   ]
  },
  {
   "cell_type": "code",
   "execution_count": 21,
   "metadata": {},
   "outputs": [],
   "source": [
    "Y = np.concatenate((ship_photos_class,bmw_photos_class, all_other_photos_class))"
   ]
  },
  {
   "cell_type": "code",
   "execution_count": 24,
   "metadata": {},
   "outputs": [],
   "source": [
    "import re\n",
    "file_names = os.listdir('new_X')\n",
    "new_index_array = []\n",
    "for file_name in file_names:\n",
    "    new_index_array.append(int(re.search('\\d*',file_name).group(0))-1) \n",
    "Y_true = Y[new_index_array]"
   ]
  },
  {
   "cell_type": "code",
   "execution_count": 27,
   "metadata": {},
   "outputs": [
    {
     "data": {
      "text/plain": [
       "array([2, 2, 2, 2, 2, 2, 2, 2, 2, 2, 2, 2, 2, 2, 2, 2, 2, 2, 2, 2, 2, 2,\n",
       "       2, 2, 2, 2, 2, 2, 2, 2, 2, 2, 2, 2, 2, 2, 2, 2, 2, 2, 2, 2, 2, 2,\n",
       "       2, 2, 2, 2, 2, 2, 2, 2, 2, 2, 2, 2, 2, 2, 2, 2, 2, 2, 2, 2, 2, 2,\n",
       "       2, 2, 1, 1, 1, 1, 1, 1, 1, 1, 1, 1, 2, 1, 1, 1, 1, 1, 1, 1, 1, 1,\n",
       "       1, 2, 1, 1, 1, 1, 1, 1, 1, 1, 1, 1, 2, 1, 1, 1, 1, 1, 1, 1, 1, 1,\n",
       "       1, 2, 2, 1, 1, 1, 1, 1, 1, 1, 1, 1, 1, 2, 1, 1, 1, 1, 1, 1, 1, 1,\n",
       "       1, 1, 2, 1, 1, 1, 1, 1, 1, 1, 1, 1, 1, 2, 1, 1, 1, 1, 1, 1, 1, 1,\n",
       "       1, 1, 2, 1, 1, 1, 1, 1, 1, 1, 1, 1, 1, 2, 1, 1, 1, 1, 1, 1, 1, 1,\n",
       "       1, 1, 2, 1, 1, 1, 1, 1, 1, 1, 1, 1, 1, 2, 1, 1, 1, 1, 1, 1, 1, 1,\n",
       "       1, 1, 2, 1, 1, 1, 1, 1, 1, 1, 1, 1, 1, 2, 1, 1, 1, 1, 1, 1, 1, 1,\n",
       "       1, 1, 2, 2, 1, 1, 1, 1, 1, 1, 1, 1, 1, 1, 2, 1, 1, 1, 1, 1, 1, 0,\n",
       "       0, 0, 0, 2, 0, 0, 0, 0, 0, 0, 0, 0, 0, 0, 2, 0, 0, 0, 0, 0, 0, 0,\n",
       "       0, 0, 0, 2, 0, 0, 0, 0, 0, 0, 0, 0, 0, 0, 2, 0, 0, 0, 0, 0, 0, 0,\n",
       "       0, 0, 0, 2, 0, 0, 0, 0, 0, 0, 0, 0, 0, 0, 2, 0, 0, 0, 0, 0, 0, 0,\n",
       "       0, 0, 0, 2, 0, 0, 0, 0, 0, 0, 0, 0, 0, 0, 2, 0, 0, 0, 0, 0, 0, 0,\n",
       "       0, 0, 0, 2, 2, 0, 0, 0, 0, 0, 0, 0, 0, 0, 0, 2, 0, 0, 0, 0, 0, 0,\n",
       "       0, 0, 0, 0, 2, 0, 0, 0, 0, 0, 0, 0, 0, 0, 0, 2, 0, 0, 0, 0, 0, 0,\n",
       "       0, 0, 0, 0, 2, 0, 0, 0, 0, 0, 0, 0, 0, 0, 0, 2, 0, 0, 0, 0, 0, 0,\n",
       "       0, 0, 0, 0, 2, 0, 0, 0, 0, 0, 0, 0, 0, 0, 0, 2, 0, 0, 0, 0, 0, 0,\n",
       "       0, 0, 0, 0, 2, 0, 0, 0, 0, 0, 0, 0, 0, 0, 0, 2, 0, 0, 0, 0, 0, 0,\n",
       "       0, 0, 0, 0, 2, 2, 0, 2, 2, 2, 2, 2, 2, 2, 2, 2, 2, 2, 2, 2, 2, 2,\n",
       "       2, 2, 2, 2, 2, 2, 2, 2, 2, 2, 2, 2, 2, 2, 2, 2, 2, 2, 2, 2, 2, 2,\n",
       "       2, 2, 2, 2, 2, 2, 2, 2, 2, 2, 2, 2, 2, 2, 2, 2])"
      ]
     },
     "execution_count": 27,
     "metadata": {},
     "output_type": "execute_result"
    }
   ],
   "source": [
    "Y_true"
   ]
  },
  {
   "cell_type": "markdown",
   "metadata": {},
   "source": [
    "# Классификация объектов на фотографиях\n"
   ]
  },
  {
   "cell_type": "markdown",
   "metadata": {},
   "source": [
    "## Нейронная сеть без использования дескрипторов"
   ]
  },
  {
   "cell_type": "code",
   "execution_count": 28,
   "metadata": {},
   "outputs": [],
   "source": [
    "from __future__ import absolute_import, division, print_function, unicode_literals\n",
    "import tensorflow as tf"
   ]
  },
  {
   "cell_type": "code",
   "execution_count": 77,
   "metadata": {},
   "outputs": [],
   "source": [
    "from tensorflow.keras.models import Sequential\n",
    "from tensorflow.keras.layers import Dense, Conv2D, Flatten, Dropout, MaxPooling2D\n",
    "from tensorflow.keras.preprocessing.image import ImageDataGenerator\n",
    "from sklearn.metrics import classification_report, confusion_matrix\n",
    "from keras.layers.convolutional import Convolution2D, MaxPooling2D\n",
    "from keras.layers.core import Dense, Dropout, Activation, Flatten\n",
    "\n",
    "import os\n",
    "import numpy as np\n",
    "import matplotlib.pyplot as plt"
   ]
  },
  {
   "cell_type": "code",
   "execution_count": 82,
   "metadata": {},
   "outputs": [],
   "source": [
    "batch_size = 128\n",
    "epochs = 15\n",
    "IMG_HEIGHT = 150\n",
    "IMG_WIDTH = 150"
   ]
  },
  {
   "cell_type": "code",
   "execution_count": 31,
   "metadata": {},
   "outputs": [],
   "source": [
    "PATH = 'X2'\n",
    "train_dir = os.path.join(PATH, 'train')\n",
    "test_dir = os.path.join(PATH, 'test')\n",
    "\n",
    "train_car_dir = os.path.join(train_dir, 'car')  # директория с картинками машины для обучения\n",
    "train_ship_dir = os.path.join(train_dir, 'ship')  # директория с картинками корабля для обучения\n",
    "train_other_dir = os.path.join(train_dir, 'other')  # директория с картинками других предметов для обучения\n",
    "\n",
    "test_car_dir = os.path.join(test_dir, 'car')  # директория с картинками машины для обучения\n",
    "test_ship_dir = os.path.join(test_dir, 'ship')  # директория с картинками корабля для обучения\n",
    "test_other_dir = os.path.join(test_dir, 'other')  # директория с картинками других предметов для обучения\n"
   ]
  },
  {
   "cell_type": "code",
   "execution_count": 32,
   "metadata": {},
   "outputs": [],
   "source": [
    "num_car_train = len(os.listdir(train_car_dir))\n",
    "num_ship_train = len(os.listdir(train_ship_dir))\n",
    "num_other_train = len(os.listdir(train_other_dir))\n",
    "\n",
    "num_car_test = len(os.listdir(test_car_dir))\n",
    "num_ship_test = len(os.listdir(test_ship_dir))\n",
    "num_other_test = len(os.listdir(test_other_dir))\n",
    "\n",
    "total_train = num_car_train + num_ship_train + num_other_train\n",
    "total_test = num_car_test + num_ship_test + num_other_test"
   ]
  },
  {
   "cell_type": "code",
   "execution_count": 33,
   "metadata": {},
   "outputs": [
    {
     "data": {
      "text/plain": [
       "373"
      ]
     },
     "execution_count": 33,
     "metadata": {},
     "output_type": "execute_result"
    }
   ],
   "source": [
    "total_train"
   ]
  },
  {
   "cell_type": "code",
   "execution_count": 34,
   "metadata": {},
   "outputs": [
    {
     "data": {
      "text/plain": [
       "127"
      ]
     },
     "execution_count": 34,
     "metadata": {},
     "output_type": "execute_result"
    }
   ],
   "source": [
    "total_test"
   ]
  },
  {
   "cell_type": "code",
   "execution_count": 35,
   "metadata": {},
   "outputs": [],
   "source": [
    "train_image_generator = ImageDataGenerator(rescale=1./255) # Генератор для тренировочных данных\n",
    "test_image_generator = ImageDataGenerator(rescale=1./255) # Генератор для проверочных данных"
   ]
  },
  {
   "cell_type": "code",
   "execution_count": 36,
   "metadata": {},
   "outputs": [
    {
     "name": "stdout",
     "output_type": "stream",
     "text": [
      "Found 373 images belonging to 3 classes.\n"
     ]
    }
   ],
   "source": [
    "train_data_gen = train_image_generator.flow_from_directory(batch_size=batch_size,\n",
    "                                                           directory=train_dir,\n",
    "                                                           shuffle=True,\n",
    "                                                           target_size=(IMG_HEIGHT, IMG_WIDTH),\n",
    "                                                           class_mode='categorical')"
   ]
  },
  {
   "cell_type": "code",
   "execution_count": 37,
   "metadata": {},
   "outputs": [
    {
     "name": "stdout",
     "output_type": "stream",
     "text": [
      "Found 127 images belonging to 3 classes.\n"
     ]
    }
   ],
   "source": [
    "test_data_gen = test_image_generator.flow_from_directory(batch_size=batch_size,\n",
    "                                                              directory=test_dir,\n",
    "                                                              target_size=(IMG_HEIGHT, IMG_WIDTH),\n",
    "                                                              class_mode='categorical')"
   ]
  },
  {
   "cell_type": "code",
   "execution_count": 38,
   "metadata": {},
   "outputs": [],
   "source": [
    "sample_training_images, _ = next(train_data_gen)"
   ]
  },
  {
   "cell_type": "markdown",
   "metadata": {},
   "source": [
    "Эта функция построит график изображения в табличном виде с одной строкой и 5 колонками, где изображения разместятся в каждой колонке."
   ]
  },
  {
   "cell_type": "code",
   "execution_count": 39,
   "metadata": {},
   "outputs": [],
   "source": [
    "def plotImages(images_arr):\n",
    "    fig, axes = plt.subplots(1, 5, figsize=(20,20))\n",
    "    axes = axes.flatten()\n",
    "    for img, ax in zip( images_arr, axes):\n",
    "        ax.imshow(img)\n",
    "        ax.axis('off')\n",
    "    plt.tight_layout()\n",
    "    plt.show()"
   ]
  },
  {
   "cell_type": "code",
   "execution_count": 40,
   "metadata": {
    "scrolled": true
   },
   "outputs": [
    {
     "data": {
      "image/png": "[encoded data removed]",
      "text/plain": [
       "<Figure size 1440x1440 with 5 Axes>"
      ]
     },
     "metadata": {
      "needs_background": "light"
     },
     "output_type": "display_data"
    }
   ],
   "source": [
    "plotImages(sample_training_images[:5])"
   ]
  },
  {
   "cell_type": "markdown",
   "metadata": {},
   "source": [
    "Создание модели"
   ]
  },
  {
   "cell_type": "code",
   "execution_count": 100,
   "metadata": {},
   "outputs": [],
   "source": [
    "model = Sequential([\n",
    "    Conv2D(16, 3, padding='same', activation='relu', input_shape=(IMG_HEIGHT, IMG_WIDTH ,3)),\n",
    "    MaxPooling2D(),\n",
    "    Conv2D(32, 3, padding='same', activation='relu'),\n",
    "    MaxPooling2D(),\n",
    "    Conv2D(64, 3, padding='same', activation='relu'),\n",
    "    MaxPooling2D(),\n",
    "    Flatten(),\n",
    "    Dense(512, activation='relu'),\n",
    "    Dense(1, activation='sigmoid')\n",
    "])"
   ]
  },
  {
   "cell_type": "markdown",
   "metadata": {},
   "source": [
    "Были выбраны оптимизатор ADAM и функция потерь категориальная кросс-энтропия. Для оценки точности для передаем аргумент metrics=['accuracy']."
   ]
  },
  {
   "cell_type": "code",
   "execution_count": 101,
   "metadata": {},
   "outputs": [],
   "source": [
    "model.compile(optimizer='adam',\n",
    "              loss='categorical_crossentropy',\n",
    "              metrics=['accuracy'])"
   ]
  },
  {
   "cell_type": "markdown",
   "metadata": {},
   "source": [
    "Чтобы посмотреть все слои сети нужно использовать метод summary:"
   ]
  },
  {
   "cell_type": "code",
   "execution_count": 102,
   "metadata": {
    "scrolled": true
   },
   "outputs": [
    {
     "name": "stdout",
     "output_type": "stream",
     "text": [
      "Model: \"sequential_9\"\n",
      "_________________________________________________________________\n",
      "Layer (type)                 Output Shape              Param #   \n",
      "=================================================================\n",
      "conv2d_19 (Conv2D)           (None, 150, 150, 16)      448       \n",
      "_________________________________________________________________\n",
      "max_pooling2d_18 (MaxPooling (None, 75, 75, 16)        0         \n",
      "_________________________________________________________________\n",
      "conv2d_20 (Conv2D)           (None, 75, 75, 32)        4640      \n",
      "_________________________________________________________________\n",
      "max_pooling2d_19 (MaxPooling (None, 37, 37, 32)        0         \n",
      "_________________________________________________________________\n",
      "conv2d_21 (Conv2D)           (None, 37, 37, 64)        18496     \n",
      "_________________________________________________________________\n",
      "max_pooling2d_20 (MaxPooling (None, 18, 18, 64)        0         \n",
      "_________________________________________________________________\n",
      "flatten_6 (Flatten)          (None, 20736)             0         \n",
      "_________________________________________________________________\n",
      "dense_12 (Dense)             (None, 512)               10617344  \n",
      "_________________________________________________________________\n",
      "dense_13 (Dense)             (None, 1)                 513       \n",
      "=================================================================\n",
      "Total params: 10,641,441\n",
      "Trainable params: 10,641,441\n",
      "Non-trainable params: 0\n",
      "_________________________________________________________________\n"
     ]
    }
   ],
   "source": [
    "model.summary()"
   ]
  },
  {
   "cell_type": "markdown",
   "metadata": {},
   "source": [
    "Используем метод fit_generator класса ImageDataGenerator для обучения сети."
   ]
  },
  {
   "cell_type": "code",
   "execution_count": 103,
   "metadata": {
    "scrolled": false
   },
   "outputs": [
    {
     "name": "stdout",
     "output_type": "stream",
     "text": [
      "Epoch 1/15\n",
      " 3/11 [=======>......................] - ETA: 53s - loss: 1.1921e-07 - accuracy: 0.3476WARNING:tensorflow:Your input ran out of data; interrupting training. Make sure that your dataset or generator can generate at least `steps_per_epoch * epochs` batches (in this case, 165 batches). You may need to use the repeat() function when building your dataset.\n",
      "WARNING:tensorflow:Your input ran out of data; interrupting training. Make sure that your dataset or generator can generate at least `steps_per_epoch * epochs` batches (in this case, 3 batches). You may need to use the repeat() function when building your dataset.\n",
      " 3/11 [=======>......................] - 36s 12s/step - loss: 1.1921e-07 - accuracy: 0.3476 - val_loss: 1.1921e-07 - val_accuracy: 0.3491\n",
      "Wall time: 55.3 s\n"
     ]
    }
   ],
   "source": [
    "%%time\n",
    "history = model.fit_generator(\n",
    "    train_data_gen,\n",
    "    steps_per_epoch=total_train // batch_size,\n",
    "    epochs=epochs,\n",
    "    validation_data=test_data_gen,\n",
    "    validation_steps=total_test // batch_size\n",
    ")"
   ]
  },
  {
   "cell_type": "code",
   "execution_count": 104,
   "metadata": {
    "scrolled": false
   },
   "outputs": [],
   "source": [
    "Y_pred = model.predict_generator(test_data_gen)\n"
   ]
  },
  {
   "cell_type": "code",
   "execution_count": 106,
   "metadata": {
    "scrolled": true
   },
   "outputs": [
    {
     "name": "stdout",
     "output_type": "stream",
     "text": [
      "Confusion Matrix\n",
      "[[51  0  0]\n",
      " [34  0  0]\n",
      " [42  0  0]]\n"
     ]
    }
   ],
   "source": [
    "y_pred = np.argmax(Y_pred, axis=1)\n",
    "print('Confusion Matrix')\n",
    "print(confusion_matrix(test_data_gen.classes, y_pred))"
   ]
  },
  {
   "cell_type": "code",
   "execution_count": 110,
   "metadata": {},
   "outputs": [],
   "source": [
    "y_true = test_data_gen.classes"
   ]
  },
  {
   "cell_type": "markdown",
   "metadata": {},
   "source": [
    "## Нейронная сеть с использованием дескрипторов"
   ]
  },
  {
   "cell_type": "code",
   "execution_count": 112,
   "metadata": {},
   "outputs": [],
   "source": [
    "from sklearn.decomposition import PCA\n",
    "from sklearn.model_selection import train_test_split\n",
    "from sklearn.model_selection import KFold\n",
    "from sklearn.model_selection import cross_val_score\n",
    "from sklearn.linear_model import LogisticRegression\n",
    "from sklearn import metrics\n",
    "from sklearn.neural_network import MLPClassifier\n",
    "from sklearn.ensemble import RandomForestClassifier\n",
    "from sklearn.tree import DecisionTreeClassifier\n",
    "from sklearn.svm import SVC"
   ]
  },
  {
   "cell_type": "markdown",
   "metadata": {},
   "source": [
    "Для начала получим дескрипторы, по которым мы будем тренировать наши модели. Поскольку KAZE для каждой фотографии возвращает неопределенный размер дескрипторных матриц и у нас возникает проблема размерности, потому что размер этих матриц довольно большой по сравнинию с нашей выборкой, мы используем метод главных компонент (PCA) для уменьшения размерности до 64. "
   ]
  },
  {
   "cell_type": "code",
   "execution_count": 121,
   "metadata": {
    "scrolled": true
   },
   "outputs": [
    {
     "name": "stdout",
     "output_type": "stream",
     "text": [
      "-\n",
      "-\n",
      "-\n",
      "-\n",
      "-\n",
      "-\n",
      "-\n",
      "-\n",
      "-\n",
      "-\n",
      "-\n",
      "-\n",
      "-\n",
      "-\n",
      "-\n",
      "-\n",
      "-\n",
      "-\n",
      "-\n",
      "-\n",
      "-\n",
      "-\n",
      "-\n",
      "-\n",
      "-\n",
      "-\n",
      "-\n",
      "-\n",
      "-\n",
      "-\n",
      "-\n",
      "-\n",
      "-\n",
      "-\n",
      "-\n",
      "-\n",
      "-\n",
      "-\n",
      "-\n",
      "-\n",
      "-\n",
      "-\n",
      "-\n",
      "-\n",
      "-\n",
      "-\n",
      "-\n",
      "-\n",
      "-\n",
      "-\n",
      "-\n",
      "-\n",
      "-\n",
      "-\n",
      "-\n",
      "-\n",
      "-\n",
      "-\n",
      "-\n",
      "-\n",
      "-\n",
      "-\n",
      "-\n",
      "-\n",
      "-\n",
      "-\n",
      "-\n",
      "-\n",
      "-\n",
      "-\n",
      "-\n",
      "-\n",
      "-\n",
      "-\n",
      "-\n",
      "-\n",
      "-\n",
      "-\n",
      "-\n",
      "-\n",
      "-\n",
      "-\n",
      "-\n",
      "-\n",
      "-\n",
      "-\n",
      "-\n",
      "-\n",
      "-\n",
      "-\n",
      "-\n",
      "-\n",
      "-\n",
      "-\n",
      "-\n",
      "-\n",
      "-\n",
      "-\n",
      "-\n",
      "-\n",
      "-\n",
      "-\n",
      "-\n",
      "-\n",
      "-\n",
      "-\n",
      "-\n",
      "-\n",
      "-\n",
      "-\n",
      "-\n",
      "-\n",
      "-\n",
      "-\n",
      "-\n",
      "-\n",
      "-\n",
      "-\n",
      "-\n",
      "-\n",
      "-\n",
      "-\n",
      "-\n",
      "-\n",
      "-\n",
      "-\n",
      "-\n",
      "-\n",
      "-\n",
      "-\n",
      "-\n",
      "-\n",
      "-\n",
      "-\n",
      "-\n",
      "-\n",
      "-\n",
      "-\n",
      "-\n",
      "-\n",
      "-\n",
      "-\n",
      "-\n",
      "-\n",
      "-\n",
      "-\n",
      "-\n",
      "-\n",
      "-\n",
      "-\n",
      "-\n",
      "-\n",
      "-\n",
      "-\n",
      "-\n",
      "-\n",
      "-\n",
      "-\n",
      "-\n",
      "-\n",
      "-\n",
      "-\n",
      "-\n",
      "-\n",
      "-\n",
      "-\n",
      "-\n",
      "-\n",
      "-\n",
      "-\n",
      "-\n",
      "-\n",
      "-\n",
      "-\n",
      "-\n",
      "-\n",
      "-\n",
      "-\n",
      "-\n",
      "-\n",
      "-\n",
      "-\n",
      "-\n",
      "-\n",
      "-\n",
      "-\n",
      "-\n",
      "-\n",
      "-\n",
      "-\n",
      "-\n",
      "-\n",
      "-\n",
      "-\n",
      "-\n",
      "-\n",
      "-\n",
      "-\n",
      "-\n",
      "-\n",
      "-\n",
      "-\n",
      "-\n",
      "-\n",
      "-\n",
      "-\n",
      "-\n",
      "-\n",
      "-\n",
      "-\n",
      "-\n",
      "-\n",
      "-\n",
      "-\n",
      "-\n",
      "-\n",
      "-\n",
      "-\n",
      "-\n",
      "-\n",
      "-\n",
      "-\n",
      "-\n",
      "-\n",
      "-\n",
      "-\n",
      "-\n",
      "-\n",
      "-\n",
      "-\n",
      "-\n",
      "-\n",
      "-\n",
      "-\n",
      "-\n",
      "-\n",
      "-\n",
      "-\n",
      "-\n",
      "-\n",
      "-\n",
      "-\n",
      "-\n",
      "-\n",
      "-\n",
      "-\n",
      "-\n",
      "-\n",
      "-\n",
      "-\n",
      "-\n",
      "-\n",
      "-\n",
      "-\n",
      "-\n",
      "-\n",
      "-\n",
      "-\n",
      "-\n",
      "-\n",
      "-\n",
      "-\n",
      "-\n",
      "-\n",
      "-\n",
      "-\n",
      "-\n",
      "-\n",
      "-\n",
      "-\n",
      "-\n",
      "-\n",
      "-\n",
      "-\n",
      "-\n",
      "-\n",
      "-\n",
      "-\n",
      "-\n",
      "-\n",
      "-\n",
      "-\n",
      "-\n",
      "-\n",
      "-\n",
      "-\n",
      "-\n",
      "-\n",
      "-\n",
      "-\n",
      "-\n",
      "-\n",
      "-\n",
      "-\n",
      "-\n",
      "-\n",
      "-\n",
      "-\n",
      "-\n",
      "-\n",
      "-\n",
      "-\n",
      "-\n",
      "-\n",
      "-\n",
      "-\n",
      "-\n",
      "-\n",
      "-\n",
      "-\n",
      "-\n",
      "-\n",
      "-\n",
      "-\n",
      "-\n",
      "-\n",
      "-\n",
      "-\n",
      "-\n",
      "-\n",
      "-\n",
      "-\n",
      "-\n",
      "-\n",
      "-\n",
      "-\n",
      "-\n",
      "-\n",
      "-\n",
      "-\n",
      "-\n",
      "-\n",
      "-\n",
      "-\n",
      "-\n",
      "-\n",
      "-\n",
      "-\n",
      "-\n",
      "-\n",
      "-\n",
      "-\n",
      "-\n",
      "-\n",
      "-\n",
      "-\n",
      "-\n",
      "-\n",
      "-\n",
      "-\n",
      "-\n",
      "-\n",
      "-\n",
      "-\n",
      "-\n",
      "-\n",
      "-\n",
      "-\n",
      "-\n",
      "-\n",
      "-\n",
      "-\n",
      "-\n",
      "-\n",
      "-\n",
      "-\n",
      "-\n",
      "-\n",
      "-\n",
      "-\n",
      "-\n",
      "-\n",
      "-\n",
      "-\n",
      "-\n",
      "-\n",
      "-\n",
      "-\n",
      "-\n",
      "-\n",
      "-\n",
      "-\n",
      "-\n",
      "-\n",
      "-\n",
      "-\n",
      "-\n",
      "-\n",
      "-\n",
      "-\n",
      "-\n",
      "-\n",
      "-\n",
      "-\n",
      "-\n",
      "-\n",
      "-\n",
      "-\n",
      "-\n",
      "-\n",
      "-\n",
      "-\n",
      "-\n",
      "-\n",
      "-\n",
      "-\n",
      "-\n",
      "-\n",
      "-\n",
      "-\n",
      "-\n",
      "-\n",
      "-\n",
      "-\n",
      "-\n",
      "-\n",
      "-\n",
      "-\n",
      "-\n",
      "-\n",
      "-\n",
      "-\n",
      "-\n",
      "-\n",
      "-\n",
      "-\n",
      "-\n",
      "-\n",
      "-\n",
      "-\n",
      "-\n",
      "-\n",
      "-\n",
      "-\n",
      "-\n",
      "-\n",
      "-\n",
      "-\n",
      "-\n",
      "-\n",
      "-\n",
      "-\n",
      "-\n",
      "-\n",
      "-\n",
      "-\n",
      "-\n",
      "-\n",
      "-\n",
      "-\n",
      "-\n",
      "-\n",
      "-\n",
      "-\n",
      "-\n",
      "-\n",
      "-\n",
      "-\n",
      "-\n",
      "-\n",
      "-\n",
      "-\n",
      "-\n",
      "-\n",
      "-\n",
      "-\n",
      "-\n",
      "-\n",
      "-\n",
      "-\n",
      "-\n",
      "-\n",
      "-\n",
      "-\n",
      "-\n",
      "-\n",
      "-\n",
      "-\n",
      "-\n",
      "-\n",
      "-\n",
      "-\n",
      "-\n",
      "-\n",
      "-\n",
      "-\n",
      "-\n",
      "-\n",
      "-\n",
      "-\n",
      "-\n",
      "-\n",
      "-\n",
      "-\n",
      "Wall time: 50min 7s\n"
     ]
    }
   ],
   "source": [
    "%%time\n",
    "pca = PCA(n_components=1)\n",
    "PATH = 'new_X'\n",
    "X=[]\n",
    "Y=[]\n",
    "X_dict = {}\n",
    "detector  = cv2.KAZE_create()\n",
    "for photo in os.listdir(PATH):\n",
    "    photo_dir = PATH + '\\\\' + photo\n",
    "    img  = cv2.imread(photo_dir,1)\n",
    "    kp, des = detector.detectAndCompute(img, None)\n",
    "    \n",
    "    try:\n",
    "        size = des.shape[0]\n",
    "    except:\n",
    "        continue\n",
    "    id = int(photo.split('.')[0])\n",
    "    X_pca = pca.fit_transform(des.T).reshape(1,-1)\n",
    "    X.append(X_pca)\n",
    "    X_dict[id] = X_pca\n",
    "    if id < 160:\n",
    "        Y.append(2)\n",
    "    elif id > 315:\n",
    "        Y.append(0)\n",
    "    else:\n",
    "        Y.append(1)\n",
    "    print('-')\n",
    "X = np.asarray(X)\n",
    "X = X.reshape(X.shape[0], -1)\n",
    "Y = np.asarray(Y)"
   ]
  },
  {
   "cell_type": "code",
   "execution_count": 122,
   "metadata": {},
   "outputs": [
    {
     "data": {
      "text/plain": [
       "494"
      ]
     },
     "execution_count": 122,
     "metadata": {},
     "output_type": "execute_result"
    }
   ],
   "source": [
    "len(X)"
   ]
  },
  {
   "cell_type": "code",
   "execution_count": 123,
   "metadata": {},
   "outputs": [],
   "source": [
    "X_1 = X\n",
    "Y_1 = Y"
   ]
  },
  {
   "cell_type": "code",
   "execution_count": 124,
   "metadata": {},
   "outputs": [
    {
     "data": {
      "text/plain": [
       "(494,)"
      ]
     },
     "execution_count": 124,
     "metadata": {},
     "output_type": "execute_result"
    }
   ],
   "source": [
    "Y.shape"
   ]
  },
  {
   "cell_type": "code",
   "execution_count": 125,
   "metadata": {
    "scrolled": true
   },
   "outputs": [
    {
     "name": "stdout",
     "output_type": "stream",
     "text": [
      "X_train shape: (370, 64)\n",
      "y_train shape: (370,)\n",
      "X_test shape: (124, 64)\n",
      "y_test shape: (124,)\n"
     ]
    }
   ],
   "source": [
    "X_train, X_test, y_train, y_test = train_test_split(X, Y, test_size=0.25, random_state=100)\n",
    "\n",
    "print(\"X_train shape:\", X_train.shape)\n",
    "print(\"y_train shape:\", y_train.shape)\n",
    "print(\"X_test shape:\", X_test.shape)\n",
    "print(\"y_test shape:\", y_test.shape)"
   ]
  },
  {
   "cell_type": "code",
   "execution_count": 126,
   "metadata": {},
   "outputs": [],
   "source": [
    "kf = KFold(shuffle=True, n_splits=10)"
   ]
  },
  {
   "cell_type": "markdown",
   "metadata": {},
   "source": [
    "  Теперь посмотрим как справилась наша нейронная сеть на основе дескрипторов. Выходит довольно высокий результат, учитывая нашу маленькую выборку в ~270 фотографий. В среднем значения колеблются от 0.85 до 0.87. По сравнению с нейронной сетью, реализованной выше, это очень хороший результат. Ниже мы увидим что несколько выбранных нами классификаторов получают результат довольно близкий к нейронной сети, но все равно не превышают. По времени нейронная сеть на основе дескриптором работает гораздо быстрей, чем обычная. Обычная работала ~25 минут. \n",
    "\n",
    "  Я думаю, что проблема обычной нейронной сети была в недостаточно большом объеме выборки, в то время как нейросети на основе дескрипторов ее хватало. Проблему эту можно решить дополнением данных. Обычно используется метод получения большего количества обучающих данных из существующих обучающих выборок путем увеличения выборок с использованием случайных преобразований, которые дают правдоподобные изображения. Цель состоит в том, чтобы модель никогда не увидела одну и ту же картинку дважды во время тренировки. Это помогает раскрывать модель для большего количества аспектов данных и лучше обобщать. Но даже при таком ухищрении этой нейросети не сравниться с нейросетью на основе дескрипторов.   "
   ]
  },
  {
   "cell_type": "code",
   "execution_count": 127,
   "metadata": {
    "scrolled": false
   },
   "outputs": [
    {
     "name": "stdout",
     "output_type": "stream",
     "text": [
      "0.8543673469387754\n",
      "Wall time: 15.6 s\n"
     ]
    }
   ],
   "source": [
    "%%time\n",
    "\n",
    "import warnings\n",
    "warnings.filterwarnings('ignore')\n",
    "nn = MLPClassifier(hidden_layer_sizes=(200,))\n",
    "print(cross_val_score(nn, X, Y, cv=kf, scoring='accuracy').mean())"
   ]
  },
  {
   "cell_type": "markdown",
   "metadata": {},
   "source": [
    "Теперь рассмотрим другие классификаторы, но как уже писалось выше наивысший результат будет у нейросети"
   ]
  },
  {
   "cell_type": "markdown",
   "metadata": {},
   "source": [
    "## Logistic Regression"
   ]
  },
  {
   "cell_type": "code",
   "execution_count": 129,
   "metadata": {},
   "outputs": [
    {
     "name": "stdout",
     "output_type": "stream",
     "text": [
      "0.7935510204081633\n",
      "Wall time: 223 ms\n"
     ]
    }
   ],
   "source": [
    "%%time\n",
    "logreg = LogisticRegression(solver='liblinear', multi_class='auto')\n",
    "print(cross_val_score(logreg, X, Y, cv=kf, scoring='accuracy').mean())"
   ]
  },
  {
   "cell_type": "code",
   "execution_count": 130,
   "metadata": {},
   "outputs": [
    {
     "name": "stdout",
     "output_type": "stream",
     "text": [
      "[[30  7  4]\n",
      " [ 1 31  2]\n",
      " [ 9  2 38]]\n"
     ]
    }
   ],
   "source": [
    "logreg.fit(X_train, y_train)\n",
    "y_pred = logreg.predict(X_test)\n",
    "print(metrics.confusion_matrix(y_test, y_pred))"
   ]
  },
  {
   "cell_type": "markdown",
   "metadata": {},
   "source": [
    "## SVM with linear kernel"
   ]
  },
  {
   "cell_type": "code",
   "execution_count": 131,
   "metadata": {
    "scrolled": false
   },
   "outputs": [
    {
     "name": "stdout",
     "output_type": "stream",
     "text": [
      "0.8318775510204081\n",
      "Wall time: 1.08 s\n"
     ]
    }
   ],
   "source": [
    "%%time\n",
    "svm = SVC(kernel='linear')\n",
    "print(cross_val_score(svm, X, Y, cv=kf, scoring='accuracy').mean())"
   ]
  },
  {
   "cell_type": "code",
   "execution_count": 132,
   "metadata": {},
   "outputs": [
    {
     "name": "stdout",
     "output_type": "stream",
     "text": [
      "[[33  5  3]\n",
      " [ 5 28  1]\n",
      " [ 8  2 39]]\n"
     ]
    }
   ],
   "source": [
    "svm.fit(X_train, y_train)\n",
    "y_pred = svm.predict(X_test)\n",
    "print(metrics.confusion_matrix(y_test, y_pred))"
   ]
  },
  {
   "cell_type": "markdown",
   "metadata": {},
   "source": [
    "## SVM with polynomial kernel"
   ]
  },
  {
   "cell_type": "code",
   "execution_count": 134,
   "metadata": {},
   "outputs": [
    {
     "name": "stdout",
     "output_type": "stream",
     "text": [
      "0.6030612244897959\n",
      "Wall time: 208 ms\n"
     ]
    }
   ],
   "source": [
    "%%time\n",
    "svm = SVC(kernel='poly', gamma='scale')\n",
    "print(cross_val_score(svm, X, Y, cv=kf, scoring='accuracy').mean())"
   ]
  },
  {
   "cell_type": "code",
   "execution_count": 135,
   "metadata": {},
   "outputs": [
    {
     "name": "stdout",
     "output_type": "stream",
     "text": [
      "[[17 24  0]\n",
      " [ 0 34  0]\n",
      " [14  6 29]]\n"
     ]
    }
   ],
   "source": [
    "svm.fit(X_train, y_train)\n",
    "y_pred = svm.predict(X_test)\n",
    "print(metrics.confusion_matrix(y_test, y_pred))"
   ]
  },
  {
   "cell_type": "markdown",
   "metadata": {},
   "source": [
    "## SVM with Gaussian kernel with PCA"
   ]
  },
  {
   "cell_type": "code",
   "execution_count": 136,
   "metadata": {
    "scrolled": true
   },
   "outputs": [
    {
     "name": "stdout",
     "output_type": "stream",
     "text": [
      "0.700530612244898\n",
      "Wall time: 253 ms\n"
     ]
    }
   ],
   "source": [
    "%%time\n",
    "svm = SVC(kernel='rbf', gamma='scale')\n",
    "print(cross_val_score(svm, X, Y, cv=kf, scoring='accuracy').mean())"
   ]
  },
  {
   "cell_type": "code",
   "execution_count": 137,
   "metadata": {},
   "outputs": [
    {
     "name": "stdout",
     "output_type": "stream",
     "text": [
      "[[28 12  1]\n",
      " [ 0 34  0]\n",
      " [15  3 31]]\n"
     ]
    }
   ],
   "source": [
    "svm.fit(X_train, y_train)\n",
    "y_pred = svm.predict(X_test)\n",
    "print(metrics.confusion_matrix(y_test, y_pred))"
   ]
  },
  {
   "cell_type": "markdown",
   "metadata": {},
   "source": [
    "## Random Forest with PCA"
   ]
  },
  {
   "cell_type": "code",
   "execution_count": 138,
   "metadata": {},
   "outputs": [
    {
     "name": "stdout",
     "output_type": "stream",
     "text": [
      "0.8214285714285715\n",
      "Wall time: 7.6 s\n"
     ]
    }
   ],
   "source": [
    "%%time\n",
    "rfc = RandomForestClassifier(n_estimators=200)\n",
    "print(cross_val_score(rfc, X, Y, cv=kf, scoring='accuracy').mean())"
   ]
  },
  {
   "cell_type": "code",
   "execution_count": 139,
   "metadata": {},
   "outputs": [
    {
     "name": "stdout",
     "output_type": "stream",
     "text": [
      "[[33  5  3]\n",
      " [ 4 30  0]\n",
      " [ 4  2 43]]\n"
     ]
    }
   ],
   "source": [
    "rfc.fit(X_train, y_train)\n",
    "y_pred = rfc.predict(X_test)\n",
    "print(metrics.confusion_matrix(y_test, y_pred))"
   ]
  },
  {
   "cell_type": "markdown",
   "metadata": {},
   "source": [
    "## Decision Trees with PCA"
   ]
  },
  {
   "cell_type": "code",
   "execution_count": 140,
   "metadata": {},
   "outputs": [
    {
     "name": "stdout",
     "output_type": "stream",
     "text": [
      "0.773469387755102\n",
      "Wall time: 203 ms\n"
     ]
    }
   ],
   "source": [
    "%%time\n",
    "dtc = DecisionTreeClassifier()\n",
    "print(cross_val_score(dtc, X, Y, cv=kf, scoring='accuracy').mean())"
   ]
  },
  {
   "cell_type": "code",
   "execution_count": 141,
   "metadata": {},
   "outputs": [
    {
     "name": "stdout",
     "output_type": "stream",
     "text": [
      "[[28 10  3]\n",
      " [ 6 26  2]\n",
      " [ 6  2 41]]\n"
     ]
    }
   ],
   "source": [
    "dtc.fit(X_train, y_train)\n",
    "y_pred = dtc.predict(X_test)\n",
    "print(metrics.confusion_matrix(y_test, y_pred))"
   ]
  },
  {
   "cell_type": "markdown",
   "metadata": {},
   "source": [
    "Как мы видим, чем выше время работы, тем выше результат предсказаний. Самые высокие точности у нейронных сетей и у случайного леса. Время работы у них ~9 секунд и ~5 секунд соответственно. Хорошо себя показал SVM with linear kernel, при маленьком времени работы довольно неплохая точность. \n",
    "\n",
    "Ошибки первого и второго рода можно увидеть под видом confusion_matrix."
   ]
  },
  {
   "cell_type": "markdown",
   "metadata": {},
   "source": [
    "# Классификация объектов на видео"
   ]
  },
  {
   "cell_type": "markdown",
   "metadata": {},
   "source": [
    "Разбиваем наше видео на фреймы"
   ]
  },
  {
   "cell_type": "code",
   "execution_count": 143,
   "metadata": {},
   "outputs": [],
   "source": [
    "import cv2\n",
    "vidcap = cv2.VideoCapture('input_video.mp4')\n",
    "success,image = vidcap.read()\n",
    "count = 0\n",
    "while success:\n",
    "  cv2.imwrite(\"Video_X/%d.jpg\" % count, image)     # save frame as JPEG file      \n",
    "  success,image = vidcap.read()\n",
    "  count += 1"
   ]
  },
  {
   "cell_type": "markdown",
   "metadata": {},
   "source": [
    "Извлекаем дескрипторы из этих фреймов"
   ]
  },
  {
   "cell_type": "code",
   "execution_count": 144,
   "metadata": {
    "scrolled": false
   },
   "outputs": [
    {
     "name": "stdout",
     "output_type": "stream",
     "text": [
      "Wall time: 16min 57s\n"
     ]
    }
   ],
   "source": [
    "%%time\n",
    "pca = PCA(n_components=1)\n",
    "PATH = 'Video_X'\n",
    "X2=[]\n",
    "Y_is_nan = []\n",
    "detector  = cv2.KAZE_create()\n",
    "for photo in os.listdir(PATH):\n",
    "    photo_dir = PATH + '\\\\' + photo\n",
    "    img  = cv2.imread(photo_dir,1)\n",
    "    kp, des = detector.detectAndCompute(img, None)\n",
    "    \n",
    "    try:\n",
    "        size = des.shape[0]\n",
    "    except:\n",
    "        Y_is_nan.append(1)\n",
    "        continue\n",
    "    Y_is_nan.append(0)   \n",
    "    X_pca = pca.fit_transform(des.T).reshape(1,-1)\n",
    "    X2.append(X_pca)\n",
    "    \n",
    "X2 = np.asarray(X2)\n",
    "X2 = X2.reshape(X2.shape[0], -1)\n"
   ]
  },
  {
   "cell_type": "markdown",
   "metadata": {},
   "source": [
    "Для сравнения попробуем классифицировать изображения на видео с помощью логической регрессии и нейросети. Как мы увидим в результате воспроизведения видео, нейросеть гораздо лучше справилась с работой. В то время как регрессия более-менее справлялась с распознаванием машинки, довольно плохо себя показала на распознавании корабля."
   ]
  },
  {
   "cell_type": "code",
   "execution_count": 145,
   "metadata": {},
   "outputs": [],
   "source": [
    "nn.fit(X, Y)\n",
    "y_pred = nn.predict(X2)"
   ]
  },
  {
   "cell_type": "code",
   "execution_count": 152,
   "metadata": {},
   "outputs": [],
   "source": [
    "logreg.fit(X, Y)\n",
    "y_pred = logreg.predict(X2)"
   ]
  },
  {
   "cell_type": "code",
   "execution_count": 153,
   "metadata": {
    "scrolled": true
   },
   "outputs": [],
   "source": [
    "for i in range(len(Y_is_nan)):\n",
    "    if(Y_is_nan[i]):\n",
    "        y_pred = np.insert(y_pred, i, -1)\n",
    "        \n",
    "y_pred = y_pred.astype(float)\n",
    "y_pred[y_pred==-1.]=np.nan"
   ]
  },
  {
   "cell_type": "markdown",
   "metadata": {},
   "source": [
    "Поскольку не для всех изображений KAZE находит дескрипторы (скорее всего это связано с плохим качеством или затемненностью изображений) то заменим классы этих изображений на классы близжайших фотографий"
   ]
  },
  {
   "cell_type": "code",
   "execution_count": 154,
   "metadata": {},
   "outputs": [],
   "source": [
    "y_pred = np.array(pd.Series(y_pred).interpolate(method='nearest')).astype(int)"
   ]
  },
  {
   "cell_type": "code",
   "execution_count": 155,
   "metadata": {},
   "outputs": [],
   "source": [
    "# y_pred"
   ]
  },
  {
   "cell_type": "code",
   "execution_count": 156,
   "metadata": {},
   "outputs": [
    {
     "data": {
      "text/plain": [
       "[<matplotlib.lines.Line2D at 0x20c8818a948>]"
      ]
     },
     "execution_count": 156,
     "metadata": {},
     "output_type": "execute_result"
    },
    {
     "data": {
      "image/png": "[encoded data removed]",
      "text/plain": [
       "<Figure size 432x288 with 1 Axes>"
      ]
     },
     "metadata": {
      "needs_background": "light"
     },
     "output_type": "display_data"
    }
   ],
   "source": [
    "import matplotlib.pyplot as plt\n",
    "plt.plot(y_pred,'o')"
   ]
  },
  {
   "cell_type": "markdown",
   "metadata": {},
   "source": [
    "### Создадим водяной знак принадлежности изображения классу"
   ]
  },
  {
   "cell_type": "code",
   "execution_count": 157,
   "metadata": {},
   "outputs": [],
   "source": [
    "#Import required Image library\n",
    "from PIL import Image, ImageDraw, ImageFont\n",
    "i=0\n",
    "for filename in glob.glob('Video_X/*.jpg'):\n",
    "#Create an Image Object from an Image\n",
    "    \n",
    "    im = Image.open(filename)\n",
    "    \n",
    "    photo_index = filename.split('\\\\')[1].split('.')[0]\n",
    "    \n",
    "    width, height = im.size\n",
    "\n",
    "    draw = ImageDraw.Draw(im)\n",
    "    \n",
    "    if y_pred[i]==0:\n",
    "        text = \"other object\"\n",
    "    if y_pred[i]==1:\n",
    "        text = \"car\"\n",
    "    if y_pred[i]==2:\n",
    "        text = \"ship\"\n",
    "        \n",
    "    font = ImageFont.truetype('arial.ttf', 86)\n",
    "    textwidth, textheight = draw.textsize(text, font)\n",
    "\n",
    "    # calculate the x,y coordinates of the text\n",
    "    margin = 10\n",
    "    x = width - textwidth - margin\n",
    "    y = height - textheight - margin\n",
    "\n",
    "    # draw watermark in the bottom right corner\n",
    "    draw.text((x, y), text, font=font)\n",
    "\n",
    "    #Save watermarked image\n",
    "    im.save('new_LR_WM_photos/' + photo_index + '.jpg')\n",
    "    i+=1\n"
   ]
  },
  {
   "cell_type": "markdown",
   "metadata": {},
   "source": [
    "Объединяем наши фото в одно видео с водяными знаками"
   ]
  },
  {
   "cell_type": "code",
   "execution_count": 158,
   "metadata": {},
   "outputs": [],
   "source": [
    "img_array = [0 for i in range(len(glob.glob('new_LR_WM_photos/*.jpg')))]\n",
    "i = 0 \n",
    "for filename in glob.glob('new_LR_WM_photos/*.jpg'):\n",
    "    img = cv2.imread(filename)\n",
    "    height, width, layers = img.shape\n",
    "    size = (width,height)\n",
    "    ind = int(filename.split('\\\\')[1].split('.')[0])\n",
    "    img_array[ind] = img\n",
    "    i+=1\n",
    " \n",
    "out = cv2.VideoWriter('new_output_LR_video.mp4',cv2.VideoWriter_fourcc(*'DIVX'), 30, size)\n",
    " \n",
    "for i in range(len(img_array)):\n",
    "    out.write(img_array[i])\n",
    "out.release()"
   ]
  },
  {
   "cell_type": "code",
   "execution_count": null,
   "metadata": {},
   "outputs": [],
   "source": []
  }
 ],
 "metadata": {
  "kernelspec": {
   "display_name": "Python 3",
   "language": "python",
   "name": "python3"
  },
  "language_info": {
   "codemirror_mode": {
    "name": "ipython",
    "version": 3
   },
   "file_extension": ".py",
   "mimetype": "text/x-python",
   "name": "python",
   "nbconvert_exporter": "python",
   "pygments_lexer": "ipython3",
   "version": "3.7.6"
  }
 },
 "nbformat": 4,
 "nbformat_minor": 4
}
