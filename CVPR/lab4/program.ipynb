{
 "cells": [
  {
   "cell_type": "markdown",
   "metadata": {},
   "source": [
    "# Лабораторна робота №4"
   ]
  },
  {
   "cell_type": "markdown",
   "metadata": {},
   "source": [
    "Оскільки у попередній лабораторній ми використовували детектор та класифікатор, то за завдання цієї лабораторної роботи ми взяли пункт Б. Через те, що в умові задачі не було зазначено щоб кожен член команди використовував свої предмети на розгляді, ми вирішили написати одну програму, для розпізнавання одного маркера - обкладинки книжки \"Граф Монте-Крісто\", та подальшою заміною його на обкладинку книжки \"Пригоди бравого вояка Швейка\". Але ми використовували два класифікатора KAZE та ORB, як і в попередніх лабораторних, щоб в кінці порівняти іх роботу. Ми, Аблець Андрій та Володимир Возняк, також аргументуємо написання однієї програми тим, що це є легшим для сприйняття викладача, оскільки двічі дивитись приблизно однакові програми не є оптимальним. "
   ]
  },
  {
   "cell_type": "code",
   "execution_count": 1,
   "metadata": {},
   "outputs": [],
   "source": [
    "import cv2\n",
    "import numpy as np\n",
    "import os\n",
    "import glob"
   ]
  },
  {
   "cell_type": "code",
   "execution_count": 15,
   "metadata": {},
   "outputs": [],
   "source": [
    "# replaceable_img - фотографія, яку ми хочемо замінити\n",
    "# original_vid - відео, що містить replaceable_img, яку ми будемо замінити\n",
    "# replacement_img - цією фотографією ми замінюємо replaceable_img\n",
    "\n",
    "\n",
    "replaceable_img = cv2.imread('replaceable_image.jpg')\n",
    "original_vid = cv2.VideoCapture('original_video.mp4')\n",
    "replacement_img = cv2.imread('replacement_image.jpg')\n",
    "# replacement_vid = cv2.VideoCapture('replacement_video.mp4')\n",
    "\n",
    "success_original, original_vid_frame = original_vid.read()\n",
    "# success_replacement, replacement_vid_frame = replacement_vid.read()\n",
    "\n",
    "height, width, channels = replaceable_img.shape\n",
    "\n",
    "# replacement_vid_frame = cv2.resize(replacement_vid_frame,(width, height))\n",
    "\n",
    "# detector  = cv2.KAZE_create()\n",
    "# matcher = cv2.BFMatcher(cv2.NORM_L1)\n",
    "detector  = cv2.ORB_create(nfeatures=3000)\n",
    "matcher = cv2.BFMatcher()\n",
    "kp_original, des_original = detector.detectAndCompute(replaceable_img, None)\n",
    "replaceable_img = cv2.drawKeypoints(replaceable_img,kp_original,None)"
   ]
  },
  {
   "cell_type": "markdown",
   "metadata": {},
   "source": [
    "## Заміна відео"
   ]
  },
  {
   "cell_type": "markdown",
   "metadata": {},
   "source": [
    "Розділимо наше оригінальне відео на фрейми"
   ]
  },
  {
   "cell_type": "code",
   "execution_count": 12,
   "metadata": {},
   "outputs": [],
   "source": [
    "import cv2\n",
    "vidcap = cv2.VideoCapture('original_video.mp4')\n",
    "success,image = vidcap.read()\n",
    "count = 0\n",
    "while success:\n",
    "  cv2.imwrite(\"original_video_frames/%d.jpg\" % count, image)     # save frame as JPEG file      \n",
    "  success,image = vidcap.read()\n",
    "  count += 1"
   ]
  },
  {
   "cell_type": "markdown",
   "metadata": {},
   "source": [
    "Для кожного фрейму проведимо заміну книжок та зберігаємо результати у папку"
   ]
  },
  {
   "cell_type": "code",
   "execution_count": 11,
   "metadata": {
    "collapsed": true
   },
   "source": [
    "img_names = [i for i in range(len(glob.glob('original_video_frames/*.jpg')))]\n",
    "\n",
    "for img_index in img_names:\n",
    "\n",
    "    photo_dir = 'original_video_frames' + '\\\\' + str(img_index) + '.jpg'\n",
    "    image_frame  = cv2.imread(photo_dir,1)\n",
    "#     kp, des = detector.detectAndCompute(image, None)\n",
    "    \n",
    "#     matcher = cv2.BFMatcher(cv2.NORM_L1)\n",
    "    matcher = cv2.BFMatcher()\n",
    "\n",
    "#     success_image, image_frame = image.read()\n",
    "    image_frame_copy = image_frame.copy( )\n",
    "    kp_image, des_image = detector.detectAndCompute(image_frame, None)\n",
    "    matches = matcher.knnMatch(des_original, des_image, k=2)\n",
    "    good = []\n",
    "    \n",
    "    for m, n in matches:\n",
    "        if m.distance < 0.8 * n.distance:\n",
    "            good.append(m)\n",
    "            \n",
    "    print(len(good))\n",
    "    if len(good)>35:\n",
    "\n",
    "        matching_result = cv2.drawMatches(replaceable_img, kp_original, image_frame, kp_image, good, None,flags=2)\n",
    "\n",
    "        original_points = np.float32([kp_original[m.queryIdx].pt for m in good]).reshape(-1,1,2)\n",
    "        image_points = np.float32([kp_image[m.trainIdx].pt for m in good]).reshape(-1,1,2)\n",
    "\n",
    "        matrix, mask = cv2.findHomography(original_points,image_points,cv2.RANSAC)\n",
    "\n",
    "        corner_points = np.float32([[0,0],[0,height],[width,height],[width,0]]).reshape(-1,1,2)\n",
    "        \n",
    "        try:\n",
    "            destination_points = cv2.perspectiveTransform(corner_points,matrix)\n",
    "\n",
    "            polygon_img = cv2.polylines(image_frame, [np.int32(destination_points)],True,(100,100,0),5)\n",
    "\n",
    "            image_warp = cv2.warpPerspective(replacement_img, matrix, ((image_frame.shape[1],image_frame.shape[0])))\n",
    "\n",
    "            black_frame = np.zeros((image_frame.shape[0],image_frame.shape[1]), np.uint8)\n",
    "            cv2.fillPoly(black_frame,[np.int32(destination_points)],(255,255,255))\n",
    "            inv_black_frame = cv2.bitwise_not(black_frame)\n",
    "            image_frame_copy = cv2.bitwise_and(image_frame_copy,image_frame_copy,mask=inv_black_frame)\n",
    "\n",
    "            result_image = cv2.bitwise_or(image_warp, image_frame_copy)\n",
    "            \n",
    "            cv2.imwrite(\"ORB_replaced_video_frames/%d.jpg\" % img_index, result_image)\n",
    "        except:\n",
    "            cv2.imwrite(\"ORB_replaced_video_frames/%d.jpg\" % img_index, image_frame)\n",
    "            continue\n",
    "            \n",
    "    else:\n",
    "        cv2.imwrite(\"ORB_replaced_video_frames/%d.jpg\" % img_index, image_frame)\n"
   ]
  },
  {
   "cell_type": "markdown",
   "metadata": {},
   "source": [
    "Об'єднуємо змінені фотографії в єдине відео"
   ]
  },
  {
   "cell_type": "code",
   "execution_count": 12,
   "metadata": {},
   "outputs": [],
   "source": [
    "img_names = [i for i in range(len(glob.glob('ORB_replaced_video_frames/*.jpg')))]\n",
    "img_array = [i for i in range(len(glob.glob('ORB_replaced_video_frames/*.jpg')))]\n",
    "\n",
    "for img_index in img_names:\n",
    "    photo_dir = 'ORB_replaced_video_frames' + '\\\\' + str(img_index) + '.jpg'\n",
    "    image_frame  = cv2.imread(photo_dir,1)\n",
    "    img_array[img_index] = image_frame\n",
    " \n",
    "\n",
    "height, width, layers = img_array[0].shape\n",
    "size = (width,height)\n",
    "out = cv2.VideoWriter('ORB_result_video.mp4',cv2.VideoWriter_fourcc(*'DIVX'), 30, size)\n",
    " \n",
    "for i in range(len(img_array)):\n",
    "    out.write(img_array[i])\n",
    "out.release()"
   ]
  },
  {
   "cell_type": "markdown",
   "metadata": {},
   "source": [
    "## Заміна у реальному часі"
   ]
  },
  {
   "cell_type": "code",
   "execution_count": 17,
   "metadata": {},
   "outputs": [],
   "source": [
    "webcam = cv2.VideoCapture(0)\n",
    "img_index = 0\n",
    "# replacement_img = cv2.resize(replacement_img,(640, 480))\n",
    "# replaceable_img = cv2.resize(replaceable_img,(640, 480))\n",
    "\n",
    "while True:\n",
    "#     matcher = cv2.BFMatcher(cv2.NORM_L1)\n",
    "    matcher = cv2.BFMatcher()\n",
    "\n",
    "    success_webcam, webcam_frame = webcam.read()\n",
    "    webcam_frame_copy = webcam_frame.copy( )\n",
    "    kp_webcam, des_webcam = detector.detectAndCompute(webcam_frame, None)\n",
    "#     webcam_frame = cv2.drawKeypoints(webcam_frame,kp,None)\n",
    "    matches = matcher.knnMatch(des_original, des_webcam, k=2)\n",
    "    good = []\n",
    "    \n",
    "    for m, n in matches:\n",
    "        if m.distance < 0.8 * n.distance:\n",
    "            good.append(m)\n",
    "            \n",
    "    \n",
    "    if len(good)>35:\n",
    "\n",
    "        matching_result = cv2.drawMatches(replaceable_img, kp_original, webcam_frame, kp_webcam, good, None,flags=2)\n",
    "\n",
    "        original_points = np.float32([kp_original[m.queryIdx].pt for m in good]).reshape(-1,1,2)\n",
    "        replacement_points = np.float32([kp_webcam[m.trainIdx].pt for m in good]).reshape(-1,1,2)\n",
    "\n",
    "        matrix, mask = cv2.findHomography(original_points,replacement_points,cv2.RANSAC)\n",
    "\n",
    "        corner_points = np.float32([[0,0],[0,height],[width,height],[width,0]]).reshape(-1,1,2)\n",
    "        \n",
    "        try:\n",
    "            destination_points = cv2.perspectiveTransform(corner_points,matrix)\n",
    "\n",
    "            polygon_img = cv2.polylines(webcam_frame, [np.int32(destination_points)],True,(100,100,0),5)\n",
    "            cv2.imshow('polygon_img', polygon_img)\n",
    "            cv2.imwrite(\"real_time_result/ORB/ORB_polygon_frames/%d.jpg\" % img_index, polygon_img)\n",
    "\n",
    "            image_warp = cv2.warpPerspective(replacement_img, matrix, ((webcam_frame.shape[1],webcam_frame.shape[0])))\n",
    "\n",
    "            black_frame = np.zeros((webcam_frame.shape[0],webcam_frame.shape[1]), np.uint8)\n",
    "            cv2.fillPoly(black_frame,[np.int32(destination_points)],(255,255,255))\n",
    "            \n",
    "            inv_black_frame = cv2.bitwise_not(black_frame)\n",
    "            webcam_frame_copy = cv2.bitwise_and(webcam_frame_copy,webcam_frame_copy,mask=inv_black_frame)\n",
    "\n",
    "            result_image = cv2.bitwise_or(image_warp, webcam_frame_copy)\n",
    "            cv2.imshow('result_image',result_image)\n",
    "            cv2.imwrite(\"real_time_result/ORB/ORB_result_frames/%d.jpg\" % img_index, result_image)\n",
    "            img_index += 1\n",
    "            \n",
    "        except:\n",
    "            cv2.imshow('polygon_img', webcam_frame)\n",
    "            cv2.imwrite(\"real_time_result/ORB/ORB_polygon_frames/%d.jpg\" % img_index, webcam_frame)\n",
    "\n",
    "            cv2.imshow('result_image',webcam_frame)\n",
    "            cv2.imwrite(\"real_time_result/ORB/ORB_result_frames/%d.jpg\" % img_index, webcam_frame)\n",
    "            continue\n",
    "            \n",
    "    else:\n",
    "        cv2.imshow('polygon_img', webcam_frame)\n",
    "        cv2.imwrite(\"real_time_result/ORB/ORB_polygon_frames/%d.jpg\" % img_index, webcam_frame)\n",
    "\n",
    "        cv2.imshow('result_image',webcam_frame)\n",
    "        cv2.imwrite(\"real_time_result/ORB/ORB_result_frames/%d.jpg\" % img_index, webcam_frame)\n",
    "\n",
    "    if cv2.waitKey(1) & 0xFF == ord('q'): \n",
    "        break\n",
    "        \n",
    "webcam.release() \n",
    "cv2.destroyAllWindows() \n"
   ]
  },
  {
   "cell_type": "markdown",
   "metadata": {},
   "source": [
    "Об'єднуємо змінені фотографії в два відео"
   ]
  },
  {
   "cell_type": "code",
   "execution_count": 4,
   "metadata": {},
   "outputs": [],
   "source": [
    "img_names = [i for i in range(len(glob.glob('real_time_result/ORB/ORB_result_frames/*.jpg')))]\n",
    "img_array_results = [i for i in range(len(glob.glob('real_time_result/ORB/ORB_result_frames/*.jpg')))]\n",
    "img_array_polygons = [i for i in range(len(glob.glob('real_time_result/ORB/ORB_result_frames/*.jpg')))]\n",
    "\n",
    "\n",
    "for img_index in img_names:\n",
    "    photo_dir_results = 'real_time_result\\\\ORB\\\\ORB_result_frames' + '\\\\' + str(img_index) + '.jpg'\n",
    "    photo_dir_polygons = 'real_time_result\\\\ORB\\\\ORB_polygon_frames' + '\\\\' + str(img_index) + '.jpg'\n",
    "    \n",
    "    image_frame_results  = cv2.imread(photo_dir_results,1)\n",
    "    image_frame_polygons  = cv2.imread(photo_dir_polygons,1)\n",
    "    \n",
    "    img_array_results[img_index] = image_frame_results\n",
    "    img_array_polygons[img_index] = image_frame_polygons\n",
    " \n",
    "\n",
    "height, width, layers = img_array_results[0].shape\n",
    "size = (width,height)\n",
    "\n",
    "out_results = cv2.VideoWriter('real_time_result\\\\ORB\\\\real_time_result_video.mp4',cv2.VideoWriter_fourcc(*'DIVX'), 15, size)\n",
    "out_polygons = cv2.VideoWriter('real_time_result\\\\ORB\\\\real_time_polygons_video.mp4',cv2.VideoWriter_fourcc(*'DIVX'), 15, size)\n",
    "\n",
    "for i in range(len(img_array_results)):\n",
    "    out_results.write(img_array_results[i])\n",
    "    out_polygons.write(img_array_polygons[i])\n",
    "out_results.release()\n",
    "out_polygons.release()"
   ]
  },
  {
   "cell_type": "markdown",
   "metadata": {},
   "source": [
    "## Висновок"
   ]
  },
  {
   "cell_type": "markdown",
   "metadata": {},
   "source": [
    "Насправді, результат програми не є неочікуваним, оскільки за плечами в нас 2 роботи з порівнянням класифікаторів KAZE та ORB. Як і в попередніх роботах, KAZE краще розпізнав об'єкт ніж ORB. Це дуже добре видно на початку відео, коли книга лежить доволі далеко від камери. В цьому випадку ORB не може розпізнати книгу, до моменту, коли камера приблизиться до неї. Після наближення камери результат роботи класифікаторів не сильно відрізняється. І це при тому, що ми задали кількість фіч у ORB = 3000 (у попередніх лаботарних ми використовували 500). Якщо ж тут написати 500, то результат буде набагато гірше. І це ще одне підтвердження того, що ORB дуже погано справляється з нечіткими фотографіями. Але якщо порівнювати класифікатори по часу роботи, то, як і в попередніх лабах KAZE сильно поступається ORB. Ще нами була реалізована заміна фотографій у реальному часі, де теж KAZE веде себе дещо краще за ORB, але це не так добре видно, як при роботі з відео. В цій задачі обидва класифікатори упоралися дещо гірше  ніж у роботі з відео. Ми думаємо, що це із-за того, що роздільна якість веб-камери доволі мала(480х640)."
   ]
  },
  {
   "cell_type": "code",
   "execution_count": null,
   "metadata": {},
   "outputs": [],
   "source": []
  }
 ],
 "metadata": {
  "kernelspec": {
   "display_name": "Python 3",
   "language": "python",
   "name": "python3"
  },
  "language_info": {
   "codemirror_mode": {
    "name": "ipython",
    "version": 3
   },
   "file_extension": ".py",
   "mimetype": "text/x-python",
   "name": "python",
   "nbconvert_exporter": "python",
   "pygments_lexer": "ipython3",
   "version": "3.7.6"
  }
 },
 "nbformat": 4,
 "nbformat_minor": 4
}
