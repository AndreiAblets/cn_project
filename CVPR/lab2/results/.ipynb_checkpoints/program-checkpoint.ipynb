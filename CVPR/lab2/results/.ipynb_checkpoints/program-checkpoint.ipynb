{
 "cells": [
  {
   "cell_type": "code",
   "execution_count": 1,
   "metadata": {},
   "outputs": [],
   "source": [
    "import numpy as np\n",
    "import cv2, time, os\n",
    "from matplotlib import pyplot as plt\n",
    "import pandas as pd\n"
   ]
  },
  {
   "cell_type": "code",
   "execution_count": 2,
   "metadata": {
    "scrolled": true
   },
   "outputs": [],
   "source": [
    "im_source = cv2.imread('C:\\\\Users\\\\user\\\\benchmark\\\\200108800907_86781.jpg',1)\n",
    "dir_test = 'C:\\\\Users\\\\user\\\\all_photos'\n",
    "dir_result = 'C:\\\\Users\\\\user\\\\results'\n",
    "\n",
    "detector  = cv2.KAZE_create()\n",
    "matcher = cv2.BFMatcher(cv2.NORM_L1)\n",
    "\n",
    "kp_src, des_src = detector.detectAndCompute(im_source, None)\n",
    "\n",
    "# if len(kp_sch) < 2 or len(kp_src) < 2:\n",
    "#     raise _robot_error(\"Not enough feature points in input images !\")\n",
    "    \n"
   ]
  },
  {
   "cell_type": "code",
   "execution_count": 3,
   "metadata": {},
   "outputs": [],
   "source": [
    "def find_metrics(path_im_search,detector,matcher,kp_src, des_src):\n",
    "#     path_im_search - str\n",
    "\n",
    "    im_search  = cv2.imread(path_im_search,1)\n",
    "    kp_sch, des_sch = detector.detectAndCompute(im_search, None)\n",
    "    start_time = time.time()\n",
    "    matches = matcher.knnMatch(des_sch, des_src, k=2)\n",
    "    all_matches = len(matches) * 2\n",
    "    good = []\n",
    "\n",
    "    for m, n in matches:\n",
    "        if m.distance < 0.8 * n.distance:\n",
    "            good.append(m)\n",
    "\n",
    "    # Set the source image can not have duplicate points        \n",
    "    good_diff, diff_good_point = [], [[]]\n",
    "\n",
    "    for m in good:\n",
    "        diff_point = [int(kp_src[m.trainIdx].pt[0]), int(kp_src[m.trainIdx].pt[1])]\n",
    "        if diff_point not in diff_good_point:\n",
    "            good_diff.append(m)\n",
    "            diff_good_point.append(diff_point)\n",
    "\n",
    "    good = good_diff\n",
    "    good_matches = len(good)\n",
    "\n",
    "    end_time = time.time()\n",
    "    result_time = round(end_time - start_time, 4)\n",
    "\n",
    "    error_all_matches_list = []\n",
    "    for m in np.array(matches).ravel().tolist():\n",
    "        error_all_matches_list.append(m.distance)\n",
    "    error_all_matches = round(np.array(error_all_matches_list).mean(), 4)\n",
    "\n",
    "    error_good = []\n",
    "    for m in good:\n",
    "        error_good.append(m.distance)\n",
    "    error_good = round(np.array(error_good).mean(), 4)\n",
    "\n",
    "    size = im_search.shape\n",
    "\n",
    "    return all_matches, good_matches, error_all_matches, error_good, size, result_time\n",
    "\n"
   ]
  },
  {
   "cell_type": "code",
   "execution_count": null,
   "metadata": {
    "scrolled": true
   },
   "outputs": [
    {
     "name": "stderr",
     "output_type": "stream",
     "text": [
      "C:\\Users\\user\\anaconda3\\lib\\site-packages\\ipykernel_launcher.py:38: RuntimeWarning: Mean of empty slice.\n",
      "C:\\Users\\user\\anaconda3\\lib\\site-packages\\numpy\\core\\_methods.py:161: RuntimeWarning: invalid value encountered in double_scalars\n",
      "  ret = ret.dtype.type(ret / rcount)\n",
      "C:\\Users\\user\\anaconda3\\lib\\site-packages\\ipykernel_launcher.py:33: RuntimeWarning: Mean of empty slice.\n"
     ]
    }
   ],
   "source": [
    "%%time\n",
    "all_metrics = []\n",
    "i = 1\n",
    "for filename in os.listdir('C:\\\\Users\\\\user\\\\all_photos'):\n",
    "    i += 1\n",
    "    temp_list = list(find_metrics('C:\\\\Users\\\\user\\\\all_photos\\\\' + filename,detector,matcher,kp_src, des_src))\n",
    "    temp_list.insert(0, filename)\n",
    "    all_metrics.append(temp_list)\n",
    "\n",
    "df = pd.DataFrame(all_metrics, columns=['name', 'all_matches', 'true_matches', \n",
    "                                        'error_all_matches', 'error_true_matches', 'size', 'time'])\n"
   ]
  },
  {
   "cell_type": "code",
   "execution_count": null,
   "metadata": {},
   "outputs": [],
   "source": [
    "df.to_csv( 'C:\\\\Users\\\\user\\\\results\\\\metrics.csv') "
   ]
  },
  {
   "cell_type": "code",
   "execution_count": null,
   "metadata": {},
   "outputs": [],
   "source": [
    "df.head(10)"
   ]
  },
  {
   "cell_type": "code",
   "execution_count": null,
   "metadata": {},
   "outputs": [],
   "source": [
    "source_keys = cv2.drawKeypoints(im_source,kp_src , None)\n",
    "cv2.namedWindow(\"Benchmark\", cv2.WINDOW_NORMAL)\n",
    "cv2.resizeWindow(\"Benchmark\", 600, 600)\n",
    "cv2.imshow(\"Benchmark\", source_keys)\n",
    "\n",
    "cv2.imwrite('C:\\\\Users\\\\user\\\\results\\\\source_keys.jpg', source_keys)\n",
    "\n",
    "cv2.waitKey(0)\n",
    "cv2.destroyAllWindows()"
   ]
  },
  {
   "cell_type": "code",
   "execution_count": null,
   "metadata": {},
   "outputs": [],
   "source": [
    "#all matches for source and 4 example photos\n",
    "i=0\n",
    "\n",
    "for filename in os.listdir('C:\\\\Users\\\\user\\\\photo_for_example'):\n",
    "    \n",
    "    i+=1\n",
    "    \n",
    "    im_search = cv2.imread('C:\\\\Users\\\\user\\\\photo_for_example\\\\'+filename, 1)\n",
    "    im_source = cv2.imread('C:\\\\Users\\\\user\\\\benchmark\\\\200108800907_86781.jpg',1)\n",
    "\n",
    "    kp_src, des_src = detector.detectAndCompute(im_source, None)\n",
    "    kp_sch, des_sch = detector.detectAndCompute(im_search, None)\n",
    "    \n",
    "    matcher = cv2.BFMatcher(cv2.NORM_L2)\n",
    "\n",
    "    matches = matcher.knnMatch(des_src, des_sch, k=2)\n",
    "    \n",
    "    matches = np.array(matches).ravel().tolist()\n",
    "    matching_result = cv2.drawMatches(im_source, kp_src, im_search, kp_sch, matches, None)\n",
    "\n",
    "    cv2.namedWindow(\"Matches\", cv2.WINDOW_NORMAL)\n",
    "    cv2.resizeWindow(\"Matches\", 1200, 600)\n",
    "    cv2.imshow(\"Matches\", matching_result)\n",
    "\n",
    "    cv2.imwrite('C:\\\\Users\\\\user\\\\results\\\\all_matches\\\\match' + str(i) + '.jpg', matching_result)\n",
    "    \n",
    "    cv2.waitKey(0)\n",
    "    cv2.destroyAllWindows()"
   ]
  },
  {
   "cell_type": "code",
   "execution_count": null,
   "metadata": {},
   "outputs": [],
   "source": [
    "#true matches for source and 4 example photos\n",
    "i=0\n",
    "\n",
    "for filename in os.listdir('C:\\\\Users\\\\user\\\\photo_for_example'):\n",
    "    \n",
    "    i+=1\n",
    "    \n",
    "    im_search = cv2.imread('C:\\\\Users\\\\user\\\\photo_for_example\\\\'+filename, 1)\n",
    "    im_source = cv2.imread('C:\\\\Users\\\\user\\\\benchmark\\\\200108800907_86781.jpg',1)\n",
    "\n",
    "    kp_src, des_src = detector.detectAndCompute(im_source, None)\n",
    "    kp_sch, des_sch = detector.detectAndCompute(im_search, None)\n",
    "    \n",
    "    matcher = cv2.BFMatcher(cv2.NORM_L2)\n",
    "\n",
    "    matches = matcher.knnMatch(des_src, des_sch, k=2)\n",
    "    \n",
    "    good = []\n",
    "\n",
    "    for m, n in matches:\n",
    "        if m.distance < 0.8 * n.distance:\n",
    "            good.append(m)\n",
    "\n",
    "    # Set the source image can not have duplicate points        \n",
    "    good_diff, diff_good_point = [], [[]]\n",
    "\n",
    "    for m in good:\n",
    "        diff_point = [int(kp_src[m.trainIdx].pt[0]), int(kp_src[m.trainIdx].pt[1])]\n",
    "        if diff_point not in diff_good_point:\n",
    "            good_diff.append(m)\n",
    "            diff_good_point.append(diff_point)\n",
    "\n",
    "    good = good_diff\n",
    "\n",
    "    matching_result = cv2.drawMatches(im_source, kp_src, im_search, kp_sch, good, None)\n",
    "\n",
    "    cv2.namedWindow(\"Matches\", cv2.WINDOW_NORMAL)\n",
    "    cv2.resizeWindow(\"Matches\", 1200, 600)\n",
    "    cv2.imshow(\"Matches\", matching_result)\n",
    "\n",
    "    cv2.imwrite('C:\\\\Users\\\\user\\\\results\\\\true_matches\\\\match' + str(i) + '.jpg', matching_result)\n",
    "    \n",
    "    cv2.waitKey(0)\n",
    "    cv2.destroyAllWindows()"
   ]
  },
  {
   "cell_type": "code",
   "execution_count": null,
   "metadata": {},
   "outputs": [],
   "source": []
  }
 ],
 "metadata": {
  "kernelspec": {
   "display_name": "Python 3",
   "language": "python",
   "name": "python3"
  },
  "language_info": {
   "codemirror_mode": {
    "name": "ipython",
    "version": 3
   },
   "file_extension": ".py",
   "mimetype": "text/x-python",
   "name": "python",
   "nbconvert_exporter": "python",
   "pygments_lexer": "ipython3",
   "version": "3.7.6"
  }
 },
 "nbformat": 4,
 "nbformat_minor": 4
}
