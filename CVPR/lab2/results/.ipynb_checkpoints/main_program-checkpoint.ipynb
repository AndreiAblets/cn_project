{
 "cells": [
  {
   "cell_type": "markdown",
   "metadata": {},
   "source": [
    "Для роботи був обраний дескриптор KAZE, а предмет на якому проводилися досліди - моделька корабля (барк). Для еталонного зображення була обрана фотографія у профіль. "
   ]
  },
  {
   "cell_type": "code",
   "execution_count": 1,
   "metadata": {},
   "outputs": [],
   "source": [
    "import numpy as np\n",
    "import cv2, time, os\n",
    "from matplotlib import pyplot as plt\n",
    "import pandas as pd\n"
   ]
  },
  {
   "cell_type": "code",
   "execution_count": 14,
   "metadata": {
    "scrolled": true
   },
   "outputs": [],
   "source": [
    "im_source = cv2.imread('C:\\\\Users\\\\user\\\\benchmark\\\\200108800907_86781.jpg',1)\n",
    "\n",
    "detector  = cv2.KAZE_create()\n",
    "matcher = cv2.BFMatcher(cv2.NORM_L1)\n",
    "\n",
    "kp_src, des_src = detector.detectAndCompute(im_source, None)\n"
   ]
  },
  {
   "cell_type": "markdown",
   "metadata": {},
   "source": [
    "Функція **find_metrics()** не знаходить ті метрики які нам потрібно було знайти, а знаходить основні метрики з яких можна отримати бажані, бо ми не зовсім розуміємо, що на що просять ділити. Але висновок спокійно можна отримати і з цих значень (в нього такі самі метрики). Тому я з Володимиром вирішили не записувати ці метрики."
   ]
  },
  {
   "cell_type": "code",
   "execution_count": 15,
   "metadata": {},
   "outputs": [],
   "source": [
    "def find_metrics(path_im_search,detector,matcher,kp_src, des_src):\n",
    "#     path_im_search - str\n",
    "\n",
    "    im_search  = cv2.imread(path_im_search,1)\n",
    "    kp_sch, des_sch = detector.detectAndCompute(im_search, None)\n",
    "    start_time = time.time()\n",
    "    matches = matcher.knnMatch(des_sch, des_src, k=2)\n",
    "    all_matches = len(matches) * 2\n",
    "    good = []\n",
    "\n",
    "    for m, n in matches:\n",
    "        if m.distance < 0.8 * n.distance:\n",
    "            good.append(m)\n",
    "\n",
    "    # Set the source image can not have duplicate points        \n",
    "    good_diff, diff_good_point = [], [[]]\n",
    "\n",
    "    for m in good:\n",
    "        diff_point = [int(kp_src[m.trainIdx].pt[0]), int(kp_src[m.trainIdx].pt[1])]\n",
    "        if diff_point not in diff_good_point:\n",
    "            good_diff.append(m)\n",
    "            diff_good_point.append(diff_point)\n",
    "\n",
    "    good = good_diff\n",
    "    good_matches = len(good)\n",
    "\n",
    "    end_time = time.time()\n",
    "    result_time = round(end_time - start_time, 4)\n",
    "\n",
    "    error_all_matches_list = []\n",
    "    for m in np.array(matches).ravel().tolist():\n",
    "        error_all_matches_list.append(m.distance)\n",
    "    error_all_matches = round(np.array(error_all_matches_list).mean(), 4)\n",
    "\n",
    "    error_good = []\n",
    "    for m in good:\n",
    "        error_good.append(m.distance)\n",
    "    error_good = round(np.array(error_good).mean(), 4)\n",
    "\n",
    "    size = im_search.shape\n",
    "\n",
    "    return all_matches, good_matches, error_all_matches, error_good, size, result_time\n",
    "\n"
   ]
  },
  {
   "cell_type": "markdown",
   "metadata": {},
   "source": [
    "Записуємо наші метрики для кожної тестової фотографії у датафрейм. Ті попередження, що вилазять, говорять нам про те, що деякі фотографії (наприклад фотографії з шишкою) не мають правильних збігів з нашим еталоном, воно і не дивно, шишка не дуже подібна на корабель. І в ці значення записується NaN."
   ]
  },
  {
   "cell_type": "code",
   "execution_count": 4,
   "metadata": {
    "scrolled": true
   },
   "outputs": [
    {
     "name": "stderr",
     "output_type": "stream",
     "text": [
      "C:\\Users\\user\\anaconda3\\lib\\site-packages\\ipykernel_launcher.py:38: RuntimeWarning: Mean of empty slice.\n",
      "C:\\Users\\user\\anaconda3\\lib\\site-packages\\numpy\\core\\_methods.py:161: RuntimeWarning: invalid value encountered in double_scalars\n",
      "  ret = ret.dtype.type(ret / rcount)\n",
      "C:\\Users\\user\\anaconda3\\lib\\site-packages\\ipykernel_launcher.py:33: RuntimeWarning: Mean of empty slice.\n"
     ]
    },
    {
     "name": "stdout",
     "output_type": "stream",
     "text": [
      "Wall time: 5min 2s\n"
     ]
    }
   ],
   "source": [
    "%%time\n",
    "all_metrics = []\n",
    "i = 1\n",
    "for filename in os.listdir('C:\\\\Users\\\\user\\\\all_photos'):\n",
    "    i += 1\n",
    "    temp_list = list(find_metrics('C:\\\\Users\\\\user\\\\all_photos\\\\' + filename,detector,matcher,kp_src, des_src))\n",
    "    temp_list.insert(0, filename)\n",
    "    all_metrics.append(temp_list)\n",
    "\n",
    "df = pd.DataFrame(all_metrics, columns=['name', 'all_matches', 'true_matches', \n",
    "                                        'error_all_matches', 'error_true_matches', 'size', 'time'])\n"
   ]
  },
  {
   "cell_type": "code",
   "execution_count": 5,
   "metadata": {},
   "outputs": [],
   "source": [
    "df.to_csv( 'C:\\\\Users\\\\user\\\\results\\\\metrics.csv') "
   ]
  },
  {
   "cell_type": "markdown",
   "metadata": {},
   "source": [
    "Подивимось на опис відношення правильних матчів до всіх. Як виявиться, середнє значення набагато менше за середня значення для ORB алгоритма. Міркування щодо цього дивитись у файлі conclusion."
   ]
  },
  {
   "cell_type": "code",
   "execution_count": 21,
   "metadata": {},
   "outputs": [
    {
     "data": {
      "text/plain": [
       "count    140.000000\n",
       "mean       0.004953\n",
       "std        0.003475\n",
       "min        0.000000\n",
       "25%        0.003074\n",
       "50%        0.004311\n",
       "75%        0.005912\n",
       "max        0.016675\n",
       "dtype: float64"
      ]
     },
     "execution_count": 21,
     "metadata": {},
     "output_type": "execute_result"
    }
   ],
   "source": [
    "(df['true_matches']/df['all_matches']).describe()"
   ]
  },
  {
   "cell_type": "code",
   "execution_count": 6,
   "metadata": {
    "scrolled": true
   },
   "outputs": [
    {
     "data": {
      "text/html": [
       "<div>\n",
       "<style scoped>\n",
       "    .dataframe tbody tr th:only-of-type {\n",
       "        vertical-align: middle;\n",
       "    }\n",
       "\n",
       "    .dataframe tbody tr th {\n",
       "        vertical-align: top;\n",
       "    }\n",
       "\n",
       "    .dataframe thead th {\n",
       "        text-align: right;\n",
       "    }\n",
       "</style>\n",
       "<table border=\"1\" class=\"dataframe\">\n",
       "  <thead>\n",
       "    <tr style=\"text-align: right;\">\n",
       "      <th></th>\n",
       "      <th>name</th>\n",
       "      <th>all_matches</th>\n",
       "      <th>true_matches</th>\n",
       "      <th>error_all_matches</th>\n",
       "      <th>error_true_matches</th>\n",
       "      <th>size</th>\n",
       "      <th>time</th>\n",
       "    </tr>\n",
       "  </thead>\n",
       "  <tbody>\n",
       "    <tr>\n",
       "      <th>0</th>\n",
       "      <td>200018300047_463343.jpg</td>\n",
       "      <td>3362</td>\n",
       "      <td>14</td>\n",
       "      <td>2.5829</td>\n",
       "      <td>1.8803</td>\n",
       "      <td>(1280, 960, 3)</td>\n",
       "      <td>0.1536</td>\n",
       "    </tr>\n",
       "    <tr>\n",
       "      <th>1</th>\n",
       "      <td>200018300204_458970.jpg</td>\n",
       "      <td>4240</td>\n",
       "      <td>33</td>\n",
       "      <td>2.7236</td>\n",
       "      <td>1.7862</td>\n",
       "      <td>(1280, 960, 3)</td>\n",
       "      <td>0.2234</td>\n",
       "    </tr>\n",
       "    <tr>\n",
       "      <th>2</th>\n",
       "      <td>200018300634_461451.jpg</td>\n",
       "      <td>4232</td>\n",
       "      <td>10</td>\n",
       "      <td>2.6901</td>\n",
       "      <td>1.8382</td>\n",
       "      <td>(960, 1280, 3)</td>\n",
       "      <td>0.1935</td>\n",
       "    </tr>\n",
       "    <tr>\n",
       "      <th>3</th>\n",
       "      <td>200018500242_464323.jpg</td>\n",
       "      <td>2260</td>\n",
       "      <td>8</td>\n",
       "      <td>2.6203</td>\n",
       "      <td>1.9124</td>\n",
       "      <td>(960, 1280, 3)</td>\n",
       "      <td>0.1057</td>\n",
       "    </tr>\n",
       "    <tr>\n",
       "      <th>4</th>\n",
       "      <td>200018500302_461154.jpg</td>\n",
       "      <td>2660</td>\n",
       "      <td>13</td>\n",
       "      <td>2.7044</td>\n",
       "      <td>1.7400</td>\n",
       "      <td>(960, 1280, 3)</td>\n",
       "      <td>0.1476</td>\n",
       "    </tr>\n",
       "    <tr>\n",
       "      <th>5</th>\n",
       "      <td>200018500845_461490.jpg</td>\n",
       "      <td>22438</td>\n",
       "      <td>20</td>\n",
       "      <td>2.6100</td>\n",
       "      <td>2.0884</td>\n",
       "      <td>(1280, 960, 3)</td>\n",
       "      <td>1.0043</td>\n",
       "    </tr>\n",
       "    <tr>\n",
       "      <th>6</th>\n",
       "      <td>200067600130_340611.jpg</td>\n",
       "      <td>5172</td>\n",
       "      <td>59</td>\n",
       "      <td>2.5130</td>\n",
       "      <td>1.5992</td>\n",
       "      <td>(1280, 1280, 3)</td>\n",
       "      <td>0.3042</td>\n",
       "    </tr>\n",
       "    <tr>\n",
       "      <th>7</th>\n",
       "      <td>200067600168_341964.jpg</td>\n",
       "      <td>3560</td>\n",
       "      <td>11</td>\n",
       "      <td>2.6618</td>\n",
       "      <td>2.0784</td>\n",
       "      <td>(960, 1280, 3)</td>\n",
       "      <td>0.1596</td>\n",
       "    </tr>\n",
       "    <tr>\n",
       "      <th>8</th>\n",
       "      <td>200067600293_341472.jpg</td>\n",
       "      <td>6790</td>\n",
       "      <td>29</td>\n",
       "      <td>2.6457</td>\n",
       "      <td>2.0432</td>\n",
       "      <td>(1280, 1280, 3)</td>\n",
       "      <td>0.3042</td>\n",
       "    </tr>\n",
       "    <tr>\n",
       "      <th>9</th>\n",
       "      <td>200067700524_339357.jpg</td>\n",
       "      <td>6594</td>\n",
       "      <td>39</td>\n",
       "      <td>2.7359</td>\n",
       "      <td>2.0067</td>\n",
       "      <td>(1280, 960, 3)</td>\n",
       "      <td>0.2932</td>\n",
       "    </tr>\n",
       "  </tbody>\n",
       "</table>\n",
       "</div>"
      ],
      "text/plain": [
       "                      name  all_matches  true_matches  error_all_matches  \\\n",
       "0  200018300047_463343.jpg         3362            14             2.5829   \n",
       "1  200018300204_458970.jpg         4240            33             2.7236   \n",
       "2  200018300634_461451.jpg         4232            10             2.6901   \n",
       "3  200018500242_464323.jpg         2260             8             2.6203   \n",
       "4  200018500302_461154.jpg         2660            13             2.7044   \n",
       "5  200018500845_461490.jpg        22438            20             2.6100   \n",
       "6  200067600130_340611.jpg         5172            59             2.5130   \n",
       "7  200067600168_341964.jpg         3560            11             2.6618   \n",
       "8  200067600293_341472.jpg         6790            29             2.6457   \n",
       "9  200067700524_339357.jpg         6594            39             2.7359   \n",
       "\n",
       "   error_true_matches             size    time  \n",
       "0              1.8803   (1280, 960, 3)  0.1536  \n",
       "1              1.7862   (1280, 960, 3)  0.2234  \n",
       "2              1.8382   (960, 1280, 3)  0.1935  \n",
       "3              1.9124   (960, 1280, 3)  0.1057  \n",
       "4              1.7400   (960, 1280, 3)  0.1476  \n",
       "5              2.0884   (1280, 960, 3)  1.0043  \n",
       "6              1.5992  (1280, 1280, 3)  0.3042  \n",
       "7              2.0784   (960, 1280, 3)  0.1596  \n",
       "8              2.0432  (1280, 1280, 3)  0.3042  \n",
       "9              2.0067   (1280, 960, 3)  0.2932  "
      ]
     },
     "execution_count": 6,
     "metadata": {},
     "output_type": "execute_result"
    }
   ],
   "source": [
    "df.head(10)"
   ]
  },
  {
   "cell_type": "code",
   "execution_count": 17,
   "metadata": {},
   "outputs": [
    {
     "data": {
      "text/html": [
       "<div>\n",
       "<style scoped>\n",
       "    .dataframe tbody tr th:only-of-type {\n",
       "        vertical-align: middle;\n",
       "    }\n",
       "\n",
       "    .dataframe tbody tr th {\n",
       "        vertical-align: top;\n",
       "    }\n",
       "\n",
       "    .dataframe thead th {\n",
       "        text-align: right;\n",
       "    }\n",
       "</style>\n",
       "<table border=\"1\" class=\"dataframe\">\n",
       "  <thead>\n",
       "    <tr style=\"text-align: right;\">\n",
       "      <th></th>\n",
       "      <th>all_matches</th>\n",
       "      <th>true_matches</th>\n",
       "      <th>error_all_matches</th>\n",
       "      <th>error_true_matches</th>\n",
       "      <th>time</th>\n",
       "    </tr>\n",
       "  </thead>\n",
       "  <tbody>\n",
       "    <tr>\n",
       "      <th>count</th>\n",
       "      <td>144.000000</td>\n",
       "      <td>144.000000</td>\n",
       "      <td>140.000000</td>\n",
       "      <td>129.000000</td>\n",
       "      <td>144.000000</td>\n",
       "    </tr>\n",
       "    <tr>\n",
       "      <th>mean</th>\n",
       "      <td>4407.055556</td>\n",
       "      <td>20.034722</td>\n",
       "      <td>2.693661</td>\n",
       "      <td>1.938253</td>\n",
       "      <td>0.208304</td>\n",
       "    </tr>\n",
       "    <tr>\n",
       "      <th>std</th>\n",
       "      <td>4228.438148</td>\n",
       "      <td>16.590676</td>\n",
       "      <td>0.104418</td>\n",
       "      <td>0.186315</td>\n",
       "      <td>0.207424</td>\n",
       "    </tr>\n",
       "    <tr>\n",
       "      <th>min</th>\n",
       "      <td>0.000000</td>\n",
       "      <td>0.000000</td>\n",
       "      <td>2.159800</td>\n",
       "      <td>1.089400</td>\n",
       "      <td>0.000000</td>\n",
       "    </tr>\n",
       "    <tr>\n",
       "      <th>25%</th>\n",
       "      <td>2297.500000</td>\n",
       "      <td>9.000000</td>\n",
       "      <td>2.652500</td>\n",
       "      <td>1.838200</td>\n",
       "      <td>0.104450</td>\n",
       "    </tr>\n",
       "    <tr>\n",
       "      <th>50%</th>\n",
       "      <td>3669.000000</td>\n",
       "      <td>17.000000</td>\n",
       "      <td>2.696650</td>\n",
       "      <td>1.943200</td>\n",
       "      <td>0.173500</td>\n",
       "    </tr>\n",
       "    <tr>\n",
       "      <th>75%</th>\n",
       "      <td>5444.500000</td>\n",
       "      <td>29.000000</td>\n",
       "      <td>2.740150</td>\n",
       "      <td>2.052800</td>\n",
       "      <td>0.253800</td>\n",
       "    </tr>\n",
       "    <tr>\n",
       "      <th>max</th>\n",
       "      <td>25832.000000</td>\n",
       "      <td>97.000000</td>\n",
       "      <td>3.191200</td>\n",
       "      <td>2.276700</td>\n",
       "      <td>1.199800</td>\n",
       "    </tr>\n",
       "  </tbody>\n",
       "</table>\n",
       "</div>"
      ],
      "text/plain": [
       "        all_matches  true_matches  error_all_matches  error_true_matches  \\\n",
       "count    144.000000    144.000000         140.000000          129.000000   \n",
       "mean    4407.055556     20.034722           2.693661            1.938253   \n",
       "std     4228.438148     16.590676           0.104418            0.186315   \n",
       "min        0.000000      0.000000           2.159800            1.089400   \n",
       "25%     2297.500000      9.000000           2.652500            1.838200   \n",
       "50%     3669.000000     17.000000           2.696650            1.943200   \n",
       "75%     5444.500000     29.000000           2.740150            2.052800   \n",
       "max    25832.000000     97.000000           3.191200            2.276700   \n",
       "\n",
       "             time  \n",
       "count  144.000000  \n",
       "mean     0.208304  \n",
       "std      0.207424  \n",
       "min      0.000000  \n",
       "25%      0.104450  \n",
       "50%      0.173500  \n",
       "75%      0.253800  \n",
       "max      1.199800  "
      ]
     },
     "execution_count": 17,
     "metadata": {},
     "output_type": "execute_result"
    }
   ],
   "source": [
    "df.describe()"
   ]
  },
  {
   "cell_type": "markdown",
   "metadata": {},
   "source": [
    "Зберігаємо та виводимо на екран ключові точки нашого еталону. Як можна бачити, алгоритм непогано справляється. На поверхні, де лежить корабель, ключових точок майже немає. Проте їх дуже багато на \"складних місцях\", наприклад в точках, де перетинаються багато ниток."
   ]
  },
  {
   "cell_type": "code",
   "execution_count": 7,
   "metadata": {},
   "outputs": [],
   "source": [
    "source_keys = cv2.drawKeypoints(im_source,kp_src , None)\n",
    "cv2.namedWindow(\"Benchmark\", cv2.WINDOW_NORMAL)\n",
    "cv2.resizeWindow(\"Benchmark\", 600, 600)\n",
    "cv2.imshow(\"Benchmark\", source_keys)\n",
    "\n",
    "cv2.imwrite('C:\\\\Users\\\\user\\\\results\\\\source_keys.jpg', source_keys)\n",
    "\n",
    "cv2.waitKey(0)\n",
    "cv2.destroyAllWindows()"
   ]
  },
  {
   "cell_type": "markdown",
   "metadata": {},
   "source": [
    "Зберігаємо та виводимо на екран усі матчі. Як можна побачити, їх дуже багато. Взагалі, вони правильно співставляють фотографії кораблів. Але, як можна бачити, на фотографії з еспандером матчів не набагато менше. "
   ]
  },
  {
   "cell_type": "code",
   "execution_count": 8,
   "metadata": {},
   "outputs": [],
   "source": [
    "#all matches for source and 4 example photos\n",
    "i=0\n",
    "\n",
    "for filename in os.listdir('C:\\\\Users\\\\user\\\\photo_for_example'):\n",
    "    \n",
    "    i+=1\n",
    "    \n",
    "    im_search = cv2.imread('C:\\\\Users\\\\user\\\\photo_for_example\\\\'+filename, 1)\n",
    "    im_source = cv2.imread('C:\\\\Users\\\\user\\\\benchmark\\\\200108800907_86781.jpg',1)\n",
    "\n",
    "    kp_src, des_src = detector.detectAndCompute(im_source, None)\n",
    "    kp_sch, des_sch = detector.detectAndCompute(im_search, None)\n",
    "    \n",
    "    matcher = cv2.BFMatcher(cv2.NORM_L1)\n",
    "\n",
    "    matches = matcher.knnMatch(des_src, des_sch, k=2)\n",
    "    \n",
    "    matches = np.array(matches).ravel().tolist()\n",
    "    matching_result = cv2.drawMatches(im_source, kp_src, im_search, kp_sch, matches, None)\n",
    "\n",
    "    cv2.namedWindow(\"Matches\", cv2.WINDOW_NORMAL)\n",
    "    cv2.resizeWindow(\"Matches\", 1200, 600)\n",
    "    cv2.imshow(\"Matches\", matching_result)\n",
    "\n",
    "    cv2.imwrite('C:\\\\Users\\\\user\\\\results\\\\all_matches\\\\match' + str(i) + '.jpg', matching_result)\n",
    "    \n",
    "    cv2.waitKey(0)\n",
    "    cv2.destroyAllWindows()"
   ]
  },
  {
   "cell_type": "markdown",
   "metadata": {},
   "source": [
    "Зберігаємо та виводимо на екран тільки правильні матчі. А ось тут матчів з фотографією еспандера дуже мало, в порівнянні з іншими фотографіями."
   ]
  },
  {
   "cell_type": "code",
   "execution_count": 9,
   "metadata": {},
   "outputs": [],
   "source": [
    "#true matches for source and 4 example photos\n",
    "i=0\n",
    "\n",
    "for filename in os.listdir('C:\\\\Users\\\\user\\\\photo_for_example'):\n",
    "    \n",
    "    i+=1\n",
    "    \n",
    "    im_search = cv2.imread('C:\\\\Users\\\\user\\\\photo_for_example\\\\'+filename, 1)\n",
    "    im_source = cv2.imread('C:\\\\Users\\\\user\\\\benchmark\\\\200108800907_86781.jpg',1)\n",
    "\n",
    "    kp_src, des_src = detector.detectAndCompute(im_source, None)\n",
    "    kp_sch, des_sch = detector.detectAndCompute(im_search, None)\n",
    "    \n",
    "    matcher = cv2.BFMatcher(cv2.NORM_L2)\n",
    "\n",
    "    matches = matcher.knnMatch(des_src, des_sch, k=2)\n",
    "    \n",
    "    good = []\n",
    "\n",
    "    for m, n in matches:\n",
    "        if m.distance < 0.8 * n.distance:\n",
    "            good.append(m)\n",
    "\n",
    "    # Set the source image can not have duplicate points        \n",
    "    good_diff, diff_good_point = [], [[]]\n",
    "\n",
    "    for m in good:\n",
    "        diff_point = [int(kp_src[m.trainIdx].pt[0]), int(kp_src[m.trainIdx].pt[1])]\n",
    "        if diff_point not in diff_good_point:\n",
    "            good_diff.append(m)\n",
    "            diff_good_point.append(diff_point)\n",
    "\n",
    "    good = good_diff\n",
    "\n",
    "    matching_result = cv2.drawMatches(im_source, kp_src, im_search, kp_sch, good, None)\n",
    "\n",
    "    cv2.namedWindow(\"Matches\", cv2.WINDOW_NORMAL)\n",
    "    cv2.resizeWindow(\"Matches\", 1200, 600)\n",
    "    cv2.imshow(\"Matches\", matching_result)\n",
    "\n",
    "    cv2.imwrite('C:\\\\Users\\\\user\\\\results\\\\true_matches\\\\match' + str(i) + '.jpg', matching_result)\n",
    "    \n",
    "    cv2.waitKey(0)\n",
    "    cv2.destroyAllWindows()"
   ]
  },
  {
   "cell_type": "code",
   "execution_count": null,
   "metadata": {},
   "outputs": [],
   "source": []
  }
 ],
 "metadata": {
  "kernelspec": {
   "display_name": "Python 3",
   "language": "python",
   "name": "python3"
  },
  "language_info": {
   "codemirror_mode": {
    "name": "ipython",
    "version": 3
   },
   "file_extension": ".py",
   "mimetype": "text/x-python",
   "name": "python",
   "nbconvert_exporter": "python",
   "pygments_lexer": "ipython3",
   "version": "3.7.6"
  }
 },
 "nbformat": 4,
 "nbformat_minor": 4
}
