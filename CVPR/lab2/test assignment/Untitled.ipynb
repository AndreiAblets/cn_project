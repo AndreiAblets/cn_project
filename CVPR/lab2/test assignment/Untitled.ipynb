{
 "cells": [
  {
   "cell_type": "code",
   "execution_count": 237,
   "metadata": {},
   "outputs": [],
   "source": [
    "import os\n",
    "import json\n",
    "\n",
    "# the folder containing the JSON files\n",
    "dump_json = '01_10_2019_360452810971729_dumpjson'\n",
    "\n",
    "# the file that will contain the answers\n",
    "result_file = 'results.json'\n",
    "\n",
    "\n",
    "def parse_json(dump_json, result_file):\n",
    "    \n",
    "    # select names of JSON files\n",
    "    json_files = [json_file for json_file in os.listdir(path_to_json) if json_file.endswith('.json')]\n",
    "    \n",
    "    # the array of result JSON objects\n",
    "    array_of_json_objects = []\n",
    "\n",
    "    for json_file in json_files:\n",
    "\n",
    "        with open(dump_json + '\\\\' + json_file, encoding=\"utf8\") as file:\n",
    "            file = json.load(file)\n",
    "\n",
    "        for key, value in file.items():\n",
    "            if (key == \"comments\"):\n",
    "\n",
    "                for data in value[\"data\"]:\n",
    "                    dictionary_per_image = {}\n",
    "\n",
    "                    if \"attachment\" in data:\n",
    "                        attachment = data[\"attachment\"]\n",
    "                        dictionary_per_image[\"post_id\"] = file[\"id\"]\n",
    "                        dictionary_per_image[\"image_url\"] = att[\"media\"][\"image\"][\"src\"]\n",
    "                        \n",
    "                        # not all photos have an ID\n",
    "                        try:\n",
    "                            dictionary_per_image[\"image_id\"] = attachment[\"target\"][\"id\"]\n",
    "                        except KeyError:\n",
    "                            dictionary_per_image[\"image_id\"] = np.nan\n",
    "\n",
    "                        array_of_json_objects.append(dictionary_per_image)\n",
    "\n",
    "    general_json_file = json.dumps({'data':array_of_json_objects})\n",
    "    \n",
    "    with open(result_file, 'w') as f:\n",
    "        f.write(general_json_file)\n",
    "\n",
    "        \n",
    "parse_json(dump_json, result_file)"
   ]
  }
 ],
 "metadata": {
  "kernelspec": {
   "display_name": "Python 3",
   "language": "python",
   "name": "python3"
  },
  "language_info": {
   "codemirror_mode": {
    "name": "ipython",
    "version": 3
   },
   "file_extension": ".py",
   "mimetype": "text/x-python",
   "name": "python",
   "nbconvert_exporter": "python",
   "pygments_lexer": "ipython3",
   "version": "3.7.6"
  }
 },
 "nbformat": 4,
 "nbformat_minor": 4
}
